{
 "cells": [
  {
   "cell_type": "code",
   "execution_count": 1,
   "id": "22a46a72",
   "metadata": {},
   "outputs": [],
   "source": [
    "# load dependencies\n",
    "from fastai.imports import *\n",
    "from fastai.text import *\n",
    "from fastai.tabular import *\n",
    "from fastai.text.data import *\n",
    "from torch.utils.data import Dataset, DataLoader\n",
    "import torch.nn as nn\n",
    "from sklearn.model_selection import train_test_split"
   ]
  },
  {
   "cell_type": "code",
   "execution_count": 2,
   "id": "a33f89b4",
   "metadata": {},
   "outputs": [],
   "source": [
    "# extend torch.utils.data.dataset.Dataset to provide us with x1 and x2\n",
    "# x1 will be used for the tabular submodule and x2 for the text submodule\n",
    "class ConcatDataset(Dataset):\n",
    "    def __init__(self, x1, x2, y): self.x1, self.x2, self.y = x1, x2, y\n",
    "    def __len__(self): return len(self.y)\n",
    "    def __getitem__(self, i): return (self.x1[i], self.x2[i]), self.y[i]\n",
    "\n",
    "    \n",
    "# define a custom collate function to be used to create a Concat DataBunch later\n",
    "def tabtext_collate(batch):\n",
    "    x, y = list(zip(*batch))\n",
    "    # x1 is (cat,cont), x2 is numericalized ids for text\n",
    "    x1, x2 = list(zip(*x))\n",
    "    x1 = to_data(x1)\n",
    "    x1 = list(zip(*x1))\n",
    "    x1 = torch.stack(x1[0]), torch.stack(x1[1])\n",
    "    x2, y = pad_collate(list(zip(x2, y)), pad_idx=1, pad_first=True)\n",
    "    return (x1, x2), y\n"
   ]
  },
  {
   "cell_type": "code",
   "execution_count": 3,
   "id": "03323eff",
   "metadata": {},
   "outputs": [],
   "source": [
    "# setup path variables to load data and save intermediate files\n",
    "DATA_PATH = Path('./input')\n",
    "MODEL_LM_PATH = Path('models_lm')\n",
    "MODEL_LM_PATH.mkdir(exist_ok=True)\n",
    "MODEL_TEXT_TAB_PATH = Path('models_text_tab')\n",
    "MODEL_TEXT_TAB_PATH.mkdir(exist_ok=True)"
   ]
  },
  {
   "cell_type": "code",
   "execution_count": 4,
   "id": "ad124a6e",
   "metadata": {},
   "outputs": [
    {
     "name": "stdout",
     "output_type": "stream",
     "text": [
      "144816\n",
      "4000 datapoints in training set\n",
      "1000 datapoints in validation set\n",
      "5000 datapoints in full set\n"
     ]
    }
   ],
   "source": [
    "## load data\n",
    "df_train = pd.read_csv(DATA_PATH/'train.csv')\n",
    "df_train = df_train.head(5000)\n",
    "\n",
    "df_train['Title'] = df_train['Title'].str.lower()\n",
    "df_train['FullDescription'] = df_train['FullDescription'].str.lower()\n",
    "df_train['LocationNormalized'] = df_train['LocationNormalized'].str.lower()\n",
    "df_train['ContractType'] = df_train['ContractType'].str.lower()\n",
    "df_train['Company'] = df_train['Company'].str.lower()\n",
    "df_train['ContractTime'] = df_train['ContractTime'].str.lower()\n",
    "df_train['Category'] = df_train['Category'].str.lower()\n",
    "\n",
    "print(df_train['SalaryNormalized'].max() - df_train['SalaryNormalized'].min())\n",
    "\n",
    "df_train['SalaryNormalized'] = (df_train['SalaryNormalized'] - df_train['SalaryNormalized'].min()) / (df_train['SalaryNormalized'].max() - df_train['SalaryNormalized'].min())    \n",
    "\n",
    "f = lambda x: ' '.join([item for item in x.split() if \"**\" not in item])\n",
    "df_train[\"FullDescription\"] = df_train[\"FullDescription\"].apply(f)\n",
    "\n",
    "df_train, df_valid = train_test_split(df_train, test_size=0.2)\n",
    "\n",
    "print(f'{df_train.shape[0]} datapoints in training set')\n",
    "print(f'{df_valid.shape[0]} datapoints in validation set')\n",
    "\n",
    "# bring data in the right format to convert it to a fastai Databunch\n",
    "df_all = pd.concat([df_train, df_valid]).reset_index(drop=True)\n",
    "df_all.fillna('', inplace=True)\n",
    "\n",
    "\n",
    "print(f'{df_all.shape[0]} datapoints in full set')\n",
    "\n",
    "# save indexes of validation datapoints\n",
    "val_idxs = np.arange(df_train.shape[0], df_all.shape[0])\n",
    "\n",
    "df_all['LocationNormalized'] = df_all['LocationNormalized'].rank(method='dense', ascending=False).astype(int)\n",
    "df_all['Title'] = df_all['Title'].rank(method='dense', ascending=False).astype(int)\n",
    "df_all['ContractType'] = df_all['ContractType'].rank(method='dense', ascending=False).astype(int)\n",
    "df_all['Company'] = df_all['Company'].rank(method='dense', ascending=False).astype(int)\n",
    "df_all['ContractTime'] = df_all['ContractTime'].rank(method='dense', ascending=False).astype(int)\n",
    "df_all['Category'] = df_all['Category'].rank(method='dense', ascending=False).astype(int)\n"
   ]
  },
  {
   "cell_type": "code",
   "execution_count": 5,
   "id": "2b25f582",
   "metadata": {},
   "outputs": [
    {
     "data": {
      "text/html": [],
      "text/plain": [
       "<IPython.core.display.HTML object>"
      ]
     },
     "metadata": {},
     "output_type": "display_data"
    },
    {
     "name": "stderr",
     "output_type": "stream",
     "text": [
      "C:\\Users\\rishu\\anaconda3\\lib\\site-packages\\fastai\\core.py:302: VisibleDeprecationWarning: Creating an ndarray from ragged nested sequences (which is a list-or-tuple of lists-or-tuples-or ndarrays with different lengths or shapes) is deprecated. If you meant to do this, you must specify 'dtype=object' when creating the ndarray.\n",
      "  return np.array(a, dtype=dtype, **kwargs)\n"
     ]
    },
    {
     "data": {
      "text/html": [],
      "text/plain": [
       "<IPython.core.display.HTML object>"
      ]
     },
     "metadata": {},
     "output_type": "display_data"
    }
   ],
   "source": [
    "# set batch size\n",
    "bs = 32\n",
    "\n",
    "# create Databunch (https://docs.fast.ai/text.data.html)\n",
    "data_lm = (TextList.from_df(df_all, cols=['FullDescription'])\n",
    "                           .split_by_idx(val_idxs)\n",
    "                           .label_for_lm()  \n",
    "                           .databunch(path=MODEL_LM_PATH, bs=bs))"
   ]
  },
  {
   "cell_type": "code",
   "execution_count": 6,
   "id": "b75093a5",
   "metadata": {},
   "outputs": [
    {
     "data": {
      "text/html": [
       "<table border=\"1\" class=\"dataframe\">\n",
       "  <thead>\n",
       "    <tr style=\"text-align: right;\">\n",
       "      <th>idx</th>\n",
       "      <th>text</th>\n",
       "    </tr>\n",
       "  </thead>\n",
       "  <tbody>\n",
       "    <tr>\n",
       "      <td>0</td>\n",
       "      <td>for high integrity electronic and electromechanical systems awareness of space / aerospace standards such as xxunk and or similar strong customer facing skills able to work in an sme and utilise multiple skills ideally auditing techniques developed and implemented product assurance plans and procedures ability to undergo uk security clearance this key role involves contribution towards projects , bids and divisional activities for assurance and certification , quality plans ,</td>\n",
       "    </tr>\n",
       "    <tr>\n",
       "      <td>1</td>\n",
       "      <td>. it is not essential to have a financial background although this may help . this is a self employed position . these positions are available now . for that next step and for more details , apply now . xxbos vanrath are currently recruiting a successful telesales executive on behalf of their client a leading design house . the client is going through a a well thought out structured</td>\n",
       "    </tr>\n",
       "    <tr>\n",
       "      <td>2</td>\n",
       "      <td>register with us . xxbos our client based in london city centre requires a german speaking telesales person with experience of selling b2b . candidates should have a proven track record in working in a similar role . basic salary of pa and commission . this role will involve selling promotional products to businesses in germany , xxunk etc . it is essential candidates speak native level german . recruitment</td>\n",
       "    </tr>\n",
       "    <tr>\n",
       "      <td>3</td>\n",
       "      <td>modern chef who can create fantastic products which are creative , xxunk mouth xxunk and also have a retail sale element to them . we are looking for some traditional items with a modern twist xxunk xxunk will need to be done daily along with singular products . the remit is to work within a bakery environment so you will also need to be able to produce homemade breads including</td>\n",
       "    </tr>\n",
       "    <tr>\n",
       "      <td>4</td>\n",
       "      <td>) . duties and responsibilities : deliver training to apprentices provide expertise on all aspects of electrical engineering convey knowledge of motors , starters , electrical circuits teaching and assessing learners candidate requirements : electrical experience within industry ideally some teaching / training experience experience and knowledge of basic plc s and drives is an advantage xxbos the company our client is a leading technical recruitment agency and talent management</td>\n",
       "    </tr>\n",
       "  </tbody>\n",
       "</table>"
      ],
      "text/plain": [
       "<IPython.core.display.HTML object>"
      ]
     },
     "metadata": {},
     "output_type": "display_data"
    }
   ],
   "source": [
    "data_lm.show_batch()"
   ]
  },
  {
   "cell_type": "code",
   "execution_count": 7,
   "id": "412fbb50",
   "metadata": {},
   "outputs": [],
   "source": [
    "data_lm.save('data_lm.pkl')"
   ]
  },
  {
   "cell_type": "code",
   "execution_count": 8,
   "id": "641d5d9a",
   "metadata": {},
   "outputs": [],
   "source": [
    "# create learner (https://docs.fast.ai/text.learner.html)\n",
    "learn = language_model_learner(data_lm, AWD_LSTM, drop_mult=0.5, path=MODEL_LM_PATH)"
   ]
  },
  {
   "cell_type": "code",
   "execution_count": 9,
   "id": "3a13e8d7",
   "metadata": {},
   "outputs": [
    {
     "data": {
      "text/html": [
       "\n",
       "    <div>\n",
       "        <style>\n",
       "            /* Turns off some styling */\n",
       "            progress {\n",
       "                /* gets rid of default border in Firefox and Opera. */\n",
       "                border: none;\n",
       "                /* Needs to be in here for Safari polyfill so background images work as expected. */\n",
       "                background-size: auto;\n",
       "            }\n",
       "            .progress-bar-interrupted, .progress-bar-interrupted::-webkit-progress-bar {\n",
       "                background: #F44336;\n",
       "            }\n",
       "        </style>\n",
       "      <progress value='0' class='' max='1' style='width:300px; height:20px; vertical-align: middle;'></progress>\n",
       "      0.00% [0/1 00:00<00:00]\n",
       "    </div>\n",
       "    \n",
       "<table border=\"1\" class=\"dataframe\">\n",
       "  <thead>\n",
       "    <tr style=\"text-align: left;\">\n",
       "      <th>epoch</th>\n",
       "      <th>train_loss</th>\n",
       "      <th>valid_loss</th>\n",
       "      <th>accuracy</th>\n",
       "      <th>time</th>\n",
       "    </tr>\n",
       "  </thead>\n",
       "  <tbody>\n",
       "  </tbody>\n",
       "</table><p>\n",
       "\n",
       "    <div>\n",
       "        <style>\n",
       "            /* Turns off some styling */\n",
       "            progress {\n",
       "                /* gets rid of default border in Firefox and Opera. */\n",
       "                border: none;\n",
       "                /* Needs to be in here for Safari polyfill so background images work as expected. */\n",
       "                background-size: auto;\n",
       "            }\n",
       "            .progress-bar-interrupted, .progress-bar-interrupted::-webkit-progress-bar {\n",
       "                background: #F44336;\n",
       "            }\n",
       "        </style>\n",
       "      <progress value='99' class='' max='442' style='width:300px; height:20px; vertical-align: middle;'></progress>\n",
       "      22.40% [99/442 04:35<15:53 11.7739]\n",
       "    </div>\n",
       "    "
      ],
      "text/plain": [
       "<IPython.core.display.HTML object>"
      ]
     },
     "metadata": {},
     "output_type": "display_data"
    },
    {
     "name": "stdout",
     "output_type": "stream",
     "text": [
      "LR Finder is complete, type {learner_name}.recorder.plot() to see the graph.\n"
     ]
    },
    {
     "data": {
      "image/png": "[encoded data removed]",
      "text/plain": [
       "<Figure size 432x288 with 1 Axes>"
      ]
     },
     "metadata": {
      "needs_background": "light"
     },
     "output_type": "display_data"
    }
   ],
   "source": [
    "# use the learning rate finder \n",
    "learn.lr_find()\n",
    "learn.recorder.plot()"
   ]
  },
  {
   "cell_type": "code",
   "execution_count": 10,
   "id": "3656de6b",
   "metadata": {},
   "outputs": [
    {
     "data": {
      "text/html": [
       "<table border=\"1\" class=\"dataframe\">\n",
       "  <thead>\n",
       "    <tr style=\"text-align: left;\">\n",
       "      <th>epoch</th>\n",
       "      <th>train_loss</th>\n",
       "      <th>valid_loss</th>\n",
       "      <th>accuracy</th>\n",
       "      <th>time</th>\n",
       "    </tr>\n",
       "  </thead>\n",
       "  <tbody>\n",
       "    <tr>\n",
       "      <td>0</td>\n",
       "      <td>3.824706</td>\n",
       "      <td>3.460586</td>\n",
       "      <td>0.354959</td>\n",
       "      <td>22:34</td>\n",
       "    </tr>\n",
       "    <tr>\n",
       "      <td>1</td>\n",
       "      <td>3.284447</td>\n",
       "      <td>3.077788</td>\n",
       "      <td>0.409196</td>\n",
       "      <td>22:35</td>\n",
       "    </tr>\n",
       "    <tr>\n",
       "      <td>2</td>\n",
       "      <td>3.050486</td>\n",
       "      <td>2.927853</td>\n",
       "      <td>0.433044</td>\n",
       "      <td>22:32</td>\n",
       "    </tr>\n",
       "    <tr>\n",
       "      <td>3</td>\n",
       "      <td>2.919732</td>\n",
       "      <td>2.845652</td>\n",
       "      <td>0.447642</td>\n",
       "      <td>22:34</td>\n",
       "    </tr>\n",
       "    <tr>\n",
       "      <td>4</td>\n",
       "      <td>2.740261</td>\n",
       "      <td>2.829612</td>\n",
       "      <td>0.450455</td>\n",
       "      <td>22:35</td>\n",
       "    </tr>\n",
       "  </tbody>\n",
       "</table>"
      ],
      "text/plain": [
       "<IPython.core.display.HTML object>"
      ]
     },
     "metadata": {},
     "output_type": "display_data"
    }
   ],
   "source": [
    "learn.fit_one_cycle(5, 1e-2, moms=(0.8,0.7)) "
   ]
  },
  {
   "cell_type": "code",
   "execution_count": 11,
   "id": "1e6f61ea",
   "metadata": {},
   "outputs": [],
   "source": [
    "# To complete the fine-tuning, we can then unfeeze and launch a new training.\n",
    "learn.unfreeze()"
   ]
  },
  {
   "cell_type": "code",
   "execution_count": 12,
   "id": "b397d4ea",
   "metadata": {},
   "outputs": [
    {
     "data": {
      "text/html": [
       "\n",
       "    <div>\n",
       "        <style>\n",
       "            /* Turns off some styling */\n",
       "            progress {\n",
       "                /* gets rid of default border in Firefox and Opera. */\n",
       "                border: none;\n",
       "                /* Needs to be in here for Safari polyfill so background images work as expected. */\n",
       "                background-size: auto;\n",
       "            }\n",
       "            .progress-bar-interrupted, .progress-bar-interrupted::-webkit-progress-bar {\n",
       "                background: #F44336;\n",
       "            }\n",
       "        </style>\n",
       "      <progress value='0' class='' max='1' style='width:300px; height:20px; vertical-align: middle;'></progress>\n",
       "      0.00% [0/1 00:00<00:00]\n",
       "    </div>\n",
       "    \n",
       "<table border=\"1\" class=\"dataframe\">\n",
       "  <thead>\n",
       "    <tr style=\"text-align: left;\">\n",
       "      <th>epoch</th>\n",
       "      <th>train_loss</th>\n",
       "      <th>valid_loss</th>\n",
       "      <th>accuracy</th>\n",
       "      <th>time</th>\n",
       "    </tr>\n",
       "  </thead>\n",
       "  <tbody>\n",
       "  </tbody>\n",
       "</table><p>\n",
       "\n",
       "    <div>\n",
       "        <style>\n",
       "            /* Turns off some styling */\n",
       "            progress {\n",
       "                /* gets rid of default border in Firefox and Opera. */\n",
       "                border: none;\n",
       "                /* Needs to be in here for Safari polyfill so background images work as expected. */\n",
       "                background-size: auto;\n",
       "            }\n",
       "            .progress-bar-interrupted, .progress-bar-interrupted::-webkit-progress-bar {\n",
       "                background: #F44336;\n",
       "            }\n",
       "        </style>\n",
       "      <progress value='91' class='' max='442' style='width:300px; height:20px; vertical-align: middle;'></progress>\n",
       "      20.59% [91/442 07:52<30:23 9.1719]\n",
       "    </div>\n",
       "    "
      ],
      "text/plain": [
       "<IPython.core.display.HTML object>"
      ]
     },
     "metadata": {},
     "output_type": "display_data"
    },
    {
     "name": "stdout",
     "output_type": "stream",
     "text": [
      "LR Finder is complete, type {learner_name}.recorder.plot() to see the graph.\n"
     ]
    },
    {
     "data": {
      "image/png": "[encoded data removed]",
      "text/plain": [
       "<Figure size 432x288 with 1 Axes>"
      ]
     },
     "metadata": {
      "needs_background": "light"
     },
     "output_type": "display_data"
    }
   ],
   "source": [
    "# use the learning rate finder again\n",
    "learn.lr_find()\n",
    "learn.recorder.plot()"
   ]
  },
  {
   "cell_type": "code",
   "execution_count": 13,
   "id": "d56683ac",
   "metadata": {},
   "outputs": [
    {
     "data": {
      "text/html": [
       "<table border=\"1\" class=\"dataframe\">\n",
       "  <thead>\n",
       "    <tr style=\"text-align: left;\">\n",
       "      <th>epoch</th>\n",
       "      <th>train_loss</th>\n",
       "      <th>valid_loss</th>\n",
       "      <th>accuracy</th>\n",
       "      <th>time</th>\n",
       "    </tr>\n",
       "  </thead>\n",
       "  <tbody>\n",
       "    <tr>\n",
       "      <td>0</td>\n",
       "      <td>2.607866</td>\n",
       "      <td>2.673299</td>\n",
       "      <td>0.477179</td>\n",
       "      <td>39:43</td>\n",
       "    </tr>\n",
       "    <tr>\n",
       "      <td>1</td>\n",
       "      <td>2.339015</td>\n",
       "      <td>2.487783</td>\n",
       "      <td>0.511007</td>\n",
       "      <td>39:47</td>\n",
       "    </tr>\n",
       "    <tr>\n",
       "      <td>2</td>\n",
       "      <td>2.056129</td>\n",
       "      <td>2.372043</td>\n",
       "      <td>0.538652</td>\n",
       "      <td>39:50</td>\n",
       "    </tr>\n",
       "    <tr>\n",
       "      <td>3</td>\n",
       "      <td>1.901287</td>\n",
       "      <td>2.314432</td>\n",
       "      <td>0.553811</td>\n",
       "      <td>39:48</td>\n",
       "    </tr>\n",
       "    <tr>\n",
       "      <td>4</td>\n",
       "      <td>1.677666</td>\n",
       "      <td>2.317137</td>\n",
       "      <td>0.557163</td>\n",
       "      <td>39:11</td>\n",
       "    </tr>\n",
       "  </tbody>\n",
       "</table>"
      ],
      "text/plain": [
       "<IPython.core.display.HTML object>"
      ]
     },
     "metadata": {},
     "output_type": "display_data"
    }
   ],
   "source": [
    "learn.fit_one_cycle(5, 1e-3, moms=(0.8,0.7)) "
   ]
  },
  {
   "cell_type": "code",
   "execution_count": 14,
   "id": "ffc40fd8",
   "metadata": {},
   "outputs": [],
   "source": [
    "learn.save_encoder('fine_tuned_enc')"
   ]
  },
  {
   "cell_type": "code",
   "execution_count": 15,
   "id": "a918f682",
   "metadata": {},
   "outputs": [],
   "source": [
    "cat_names = ['Title','LocationNormalized','ContractType','ContractTime','Company','Category'] # categorical\n",
    "cont_names = [] # continous variables (in our case we don't have any) \n",
    "dep_var = 'SalaryNormalized' # label\n",
    "procs = [FillMissing, Categorify, Normalize] # preprocessing steps\n",
    "txt_cols=['FullDescription'] # text\n",
    "bs = 8 # batch size\n",
    "\n",
    "# import numpy as np\n",
    "\n",
    "# np.random.seed(42)"
   ]
  },
  {
   "cell_type": "code",
   "execution_count": 16,
   "id": "e16a7ab8",
   "metadata": {},
   "outputs": [],
   "source": [
    "# get tabular Databunch from the fast.ai Tabular module (docs: https://docs.fast.ai/tabular.data.html)\n",
    "def get_tab_databunch(df,bs=bs,val_idxs=val_idxs, path = MODEL_TEXT_TAB_PATH):\n",
    "        \n",
    "    return (TabularList.from_df(df, cat_names, cont_names, procs=procs, path=path)\n",
    "                            .split_by_idx(val_idxs)\n",
    "                            .label_from_df(cols = dep_var, label_cls = FloatList)\n",
    "#                             .label_from_df(cols=dep_var)\n",
    "                            .databunch(bs=bs))\n",
    "\n",
    "# get Text Databunch from the fast.ai Text module (docs: https://docs.fast.ai/text.data.html)\n",
    "def get_text_databunch(df,bs=bs,val_idxs=val_idxs, path = MODEL_TEXT_TAB_PATH):\n",
    "    # load fine-tuned vocab\n",
    "    data_lm =load_data(MODEL_LM_PATH, 'data_lm.pkl', bs=bs)\n",
    "    return (TextList.from_df(df, cols = txt_cols[0], vocab=data_lm.vocab, path=path)\n",
    "                            .split_by_idx(val_idxs)\n",
    "                            .label_from_df(cols = dep_var, label_cls = FloatList)\n",
    "#                             .label_from_df(cols=dep_var)\n",
    "                            .databunch(bs=bs))"
   ]
  },
  {
   "cell_type": "code",
   "execution_count": 17,
   "id": "0d583ee0",
   "metadata": {},
   "outputs": [],
   "source": [
    "# get fast.ai tabular learner (docs: https://docs.fast.ai/tabular.models.html)\n",
    "def get_tabular_learner(data, params):\n",
    "    return tabular_learner(data,metrics=accuracy,**params)\n",
    "\n",
    "# get fast.ai text learner and load the fine-tuned weights (docs: https://docs.fast.ai/text.learner.html)\n",
    "def get_text_learner(data, params):\n",
    "    learn = text_classifier_learner(data,AWD_LSTM,metrics=accuracy,**params)\n",
    "    learn.path=MODEL_LM_PATH\n",
    "    learn.load_encoder('fine_tuned_enc')\n",
    "    learn.path=MODEL_TEXT_TAB_PATH\n",
    "    return learn"
   ]
  },
  {
   "cell_type": "code",
   "execution_count": 18,
   "id": "abe91d9c",
   "metadata": {},
   "outputs": [],
   "source": [
    "def get_data(bs=bs,path=MODEL_TEXT_TAB_PATH):\n",
    "    \n",
    "    tb_data = df_all[cat_names + cont_names + [dep_var]]\n",
    "    \n",
    "    print(tb_data) \n",
    "    \n",
    "    \n",
    "    # get databunches using fast.ai's implementation\n",
    "    tab_db = get_tab_databunch(df_all[cat_names + cont_names+ [dep_var]])\n",
    "    text_db = get_text_databunch(df_all[txt_cols +[dep_var]])\n",
    "    \n",
    "    # extend the databunches to work with our Concat Model\n",
    "    train_ds = ConcatDataset(tab_db.train_ds.x, text_db.train_ds.x, tab_db.train_ds.y)\n",
    "    valid_ds = ConcatDataset(tab_db.valid_ds.x, text_db.valid_ds.x, tab_db.valid_ds.y)\n",
    "    \n",
    "    # add sample startegies for both training and validation set\n",
    "    train_sampler = SortishSampler(text_db.train_ds.x, key=lambda t: len(text_db.train_ds[t][0].data), bs=bs//2)\n",
    "    valid_sampler = SortSampler(text_db.valid_ds.x, key=lambda t: len(text_db.valid_ds[t][0].data))\n",
    "    \n",
    "    # create DataLoaders\n",
    "    train_dl = DataLoader(train_ds, bs//2, sampler=train_sampler)\n",
    "    valid_dl = DataLoader(valid_ds, bs, sampler=valid_sampler)\n",
    "    \n",
    "    # create databunch to work with out Concat Model\n",
    "    data = DataBunch(train_dl, valid_dl, device=defaults.device, collate_fn=tabtext_collate, path=path)\n",
    "\n",
    "    return data,tab_db,text_db"
   ]
  },
  {
   "cell_type": "code",
   "execution_count": 19,
   "id": "6072ad20",
   "metadata": {},
   "outputs": [
    {
     "name": "stdout",
     "output_type": "stream",
     "text": [
      "      Title  LocationNormalized  ContractType  ContractTime  Company  \\\n",
      "0      1779                 153             2             1      166   \n",
      "1      3023                  77             2             1      166   \n",
      "2       895                 651             3             1      289   \n",
      "3      2889                 558             2             3      315   \n",
      "4      3195                  77             1             3      315   \n",
      "...     ...                 ...           ...           ...      ...   \n",
      "4995    843                  77             3             1      289   \n",
      "4996   2893                 325             3             3      280   \n",
      "4997    672                 305             2             1      126   \n",
      "4998    927                 599             1             3      315   \n",
      "4999   1079                 400             3             3      315   \n",
      "\n",
      "      Category  SalaryNormalized  \n",
      "0           20          0.337090  \n",
      "1            6          0.171362  \n",
      "2           16          0.223152  \n",
      "3           18          0.343995  \n",
      "4           18          0.212794  \n",
      "...        ...               ...  \n",
      "4995        16          0.205889  \n",
      "4996        17          0.164457  \n",
      "4997        15          0.192078  \n",
      "4998        18          0.081669  \n",
      "4999        18          0.141587  \n",
      "\n",
      "[5000 rows x 7 columns]\n"
     ]
    },
    {
     "data": {
      "text/html": [],
      "text/plain": [
       "<IPython.core.display.HTML object>"
      ]
     },
     "metadata": {},
     "output_type": "display_data"
    },
    {
     "name": "stderr",
     "output_type": "stream",
     "text": [
      "C:\\Users\\rishu\\anaconda3\\lib\\site-packages\\fastai\\core.py:302: VisibleDeprecationWarning: Creating an ndarray from ragged nested sequences (which is a list-or-tuple of lists-or-tuples-or ndarrays with different lengths or shapes) is deprecated. If you meant to do this, you must specify 'dtype=object' when creating the ndarray.\n",
      "  return np.array(a, dtype=dtype, **kwargs)\n"
     ]
    },
    {
     "data": {
      "text/html": [],
      "text/plain": [
       "<IPython.core.display.HTML object>"
      ]
     },
     "metadata": {},
     "output_type": "display_data"
    }
   ],
   "source": [
    "# instantiate all necessary DataBunches\n",
    "data,tab_db,text_db = get_data(bs=bs)"
   ]
  },
  {
   "cell_type": "code",
   "execution_count": 20,
   "id": "0c2eb8d7",
   "metadata": {},
   "outputs": [],
   "source": [
    "# custom module to concatentate the outputs of the tabular and text submodules and add the Multilayer Perceptron on top\n",
    "class ConcatModel(nn.Module):\n",
    "    def __init__(self, mod_tab, mod_nlp, layers, drops):\n",
    "        super().__init__()\n",
    "        self.mod_tab = mod_tab\n",
    "        self.mod_nlp = mod_nlp\n",
    "        lst_layers = []\n",
    "        activs = [nn.Sigmoid(), ] * (len(layers)-2) + [None]\n",
    "        for n_in, n_out, p, actn in zip(layers[:-1], layers[1:], drops, activs):\n",
    "            lst_layers += bn_drop_lin(n_in, n_out, p=p, actn=actn)\n",
    "        self.layers = nn.Sequential(*lst_layers)\n",
    "\n",
    "    def forward(self, *x):\n",
    "        x_tab = self.mod_tab(*x[0])\n",
    "        x_nlp = self.mod_nlp(x[1])[0]\n",
    "        x = torch.cat([x_tab, x_nlp], dim=1)\n",
    "        return self.layers(x)"
   ]
  },
  {
   "cell_type": "code",
   "execution_count": 21,
   "id": "3b5fc103",
   "metadata": {},
   "outputs": [],
   "source": [
    "def get_concat_learner(data, tab_db, text_db):\n",
    "    \n",
    "    # output size of the last layer of the tabular module\n",
    "    tab_out_size = 100\n",
    "    # output size of the last layer of the text module (ULMFiT)\n",
    "    text_out_size = 300\n",
    "    \n",
    "    params = {\n",
    "        'layers': [tab_out_size], # output size of the last layer of the tabular module\n",
    "        'ps': [0.], # dropout before the last layer of the tabular module\n",
    "        'emb_drop': 0., # embedding dropout for categorical features\n",
    "        'use_bn': True, # use batchnorm\n",
    "    }\n",
    "    \n",
    "    # instantiate the tabular learner\n",
    "    tab_learner = get_tabular_learner(tab_db, params)\n",
    "    # cut off layers so we can put the Concat head on top\n",
    "    tab_learner.model.layers = tab_learner.model.layers[:-2]\n",
    "\n",
    "    params = {\n",
    "        'lin_ftrs': [text_out_size],  # output size of the last layer of the text module (ULMFiT)\n",
    "        'bptt': 80, # backpropagation through time (sequence length)\n",
    "        'max_len': 20*80, # last max_len activations to be considered (see https://docs.fast.ai/text.learner.html)\n",
    "        'drop_mult': 1. # dropout rate\n",
    "    }\n",
    "    \n",
    "    # instantiate the text learner\n",
    "    text_learner = get_text_learner(text_db, params)\n",
    "    # cut off layers so we can put the Concat head on top\n",
    "    text_learner.model[-1].layers = text_learner.model[-1].layers[:-3]\n",
    "    \n",
    "    # size of fully connected layers in Concat Head\n",
    "    lin_layers = [tab_out_size + text_out_size, 200, 1]\n",
    "    # dropout rate for fully connected layers in Concat Head\n",
    "    ps = [0.3, 0.2, 0.1]\n",
    "    model = ConcatModel(tab_learner.model, text_learner.model, lin_layers, ps)\n",
    "    \n",
    "    # Use Mean Squared Error here if you want to use this for a regression task\n",
    "    loss_func = MSELossFlat()\n",
    "   \n",
    "    learn = Learner(data, model, loss_func=loss_func, metrics=mean_absolute_error)\n",
    "    \n",
    "    return learn"
   ]
  },
  {
   "cell_type": "code",
   "execution_count": 22,
   "id": "e90d1556",
   "metadata": {},
   "outputs": [
    {
     "name": "stdout",
     "output_type": "stream",
     "text": [
      "TabularDataBunch;\n",
      "\n",
      "Train: LabelList (4000 items)\n",
      "x: TabularList\n",
      "Title 1779; LocationNormalized 153; ContractType 2; ContractTime 1; Company 166; Category 20; ,Title 3023; LocationNormalized 77; ContractType 2; ContractTime 1; Company 166; Category 6; ,Title 895; LocationNormalized 651; ContractType 3; ContractTime 1; Company 289; Category 16; ,Title 2889; LocationNormalized 558; ContractType 2; ContractTime 3; Company 315; Category 18; ,Title 3195; LocationNormalized 77; ContractType 1; ContractTime 3; Company 315; Category 18; \n",
      "y: FloatList\n",
      "0.33708984,0.17136228,0.22315213,0.34399512,0.21279417\n",
      "Path: models_text_tab;\n",
      "\n",
      "Valid: LabelList (1000 items)\n",
      "x: TabularList\n",
      "Title #na#; LocationNormalized 325; ContractType 2; ContractTime 3; Company 315; Category 18; ,Title #na#; LocationNormalized 502; ContractType 2; ContractTime 1; Company 222; Category 15; ,Title #na#; LocationNormalized 367; ContractType 2; ContractTime 3; Company 315; Category 18; ,Title #na#; LocationNormalized 607; ContractType 2; ContractTime 3; Company 315; Category 18; ,Title #na#; LocationNormalized #na#; ContractType 1; ContractTime 3; Company 315; Category 18; \n",
      "y: FloatList\n",
      "0.33543256,0.13683571,0.1610043,0.15755165,0.087635346\n",
      "Path: models_text_tab;\n",
      "\n",
      "Test: None\n",
      "TextClasDataBunch;\n",
      "\n",
      "Train: LabelList (4000 items)\n",
      "x: TextList\n",
      "xxbos product assurance manager aerospace electro systems bristol excellent opportunity to join a company that develops highly complex technical solutions for a range of markets including simulation , safety critical systems and high integrity . in line with growth they are seeking a product assurance manager with experience of high integrity electronic and electromechanical systems . to be considered applicants must have : proven experience within product assurance / quality for high integrity electronic and electromechanical systems awareness of space / aerospace standards such as xxunk and or similar strong customer facing skills able to work in an sme and utilise multiple skills ideally auditing techniques developed and implemented product assurance plans and procedures ability to undergo uk security clearance this key role involves contribution towards projects , bids and divisional activities for assurance and certification , quality plans , material and part selection , reliability and safety aspects . if you are looking to join a progressive sme for a company that offers excellent variety , progression and benefits apply now to xxunk bennett at benefits . commutable from bristol , bath , newport , gloucestershire , swindon,xxbos a superb opportunity for an experienced european sales account manager to join this international provider of prep equipment for analytical spectroscopy ( xrf / icp ) worldwide . the company : our wellestablished ( 50 years ) international client provides prep equipment and solutions for analytical spectroscopy for scientists throughout the world . clients are xxunk from small laboratories to large corporations . the role : as a european sales account manager your responsibilities include management of distributors and key accounts and is mostly inhouse with about 25 % of the time spent travelling in europe at trade shows and dealers . the candidate : the successful candidate will have substantial sales experience within the scientific sector ( ideally laboratory equipment ) and have a relevant industry degree , with a preference for chemical sciences . you will be highly motivated and well focused and be a good team player with a proven record of sales achievement and relationship building . knowledge of sample preparation by fusion for xrf or icp is a big advantage as is knowledge of one or more european languages . primary skills : sales specialist , laboratory equipment sales , chemical solutions sales , new business development , sales management laboratory instrument sales , multilingual european languages such as german , french , finnish , spanish , italian , dutch etc . candidates searching for the following job titles are also likely to be interested : european sales manager scientific sales laboratory sales technical sales executive european sales executive new business development chemical solutions sales for full company details and job specification please email your cv now or contact pia xxunk to discuss further . we understand your specific requirements and career aspirations guarantee to keep you updated provide full xxunk preparation and xxunk xxunk we guarantee not to approach any company without consulting you first,xxbos we are currently seeking a senior .net developer for our client based in belfast . our client is a multinational organisation who are growing their leading edge software development centre in belfast , to deliver key software products directly for clients and for business teams using the latest microsoft technologies ( .net c , asp.net and sql server ) . suitable candidates will be motivated individuals with a desire to drive the latest technology solutions . if you are interested in working on leading edge web applications , utilising the newest of technology you might just be the person for this growing team . this a varied role in which you will experience full exposure to the software development lifecycle including requirements gathering , design , software development through to deployment and warranty . you will be working as part of multiple project teams simultaneously , each with their challenges and opportunities . your primary focus will be on design and build . as important as the technology , is your personal ambition and drive to work in an agile development environment , delivering first time for our customers and adding value throughout the project lifecycle . your technical excellence and xxunk will allow you to move xxunk between project developments , maintenance and production support . you should have a strong technical background , xxunk in large scale projects ; passionate about technology and keeping up to date within the it sector . key accountabilities lead the design and development of cuttingedge software solutions , developed in c .net with sql as the back end data store . ensure all deliverables for projects are completed on time , to budget and within quality standards . work closely with the technical architect to help design our solutions to meet the current and future business needs . actively seek ways to improve process and procedures . assist the project manager in production of estimates for development activity . work with the business and data analysts to drive the requirements forward . provide support and consultancy across all test phases of the project . ownership of planning of software release , their execution and xxunk activities . assist with maintenance and production support . provide coaching and mentoring to your colleagues through but not limited to advice , technical assistance and code reviews . key skills fluency in written and spoken english candidates should have a degree in it or related subject and at least 5 years recent relevant experience in .net software development within a commercial environment with 2 years at senior developer level . technically excellent in c , asp.net , mvc , entity framework , linq , strong web development skills , including jquery , ajax , css and javascript , you also have strong working knowledge of visual studio , sql server , wcf and tfs . experience of full software lifecycle and different methodologies . you will have used design patterns and practices . experience in leading a software development project to completion . you should have strong time management skills and the ability and drive to meet deadlines . you will be an excellent team player , but also capable of working independently , showing leadership , ownership and commitment to the success of the team . as a strong problem solver , you have an analytical mind and a keen eye for detail . what we offer you : a strong starting salary health plan flexible working environment challenging work contact details deadline to be considered for this position , please forward your cv to phil vernon at diamond recruitment by clicking on the apply button on this page and attaching your cv . for further information on this opportunity please contact phil vernon at diamond recruitment on your details will be treated in a confidential manner with diamond recruitment group . only applicants meeting the criteria will be contacted . minimim experience to 4 years minimum qualification third level diploma,xxbos general manager large nursing home cheshire this position is for the successful candidate to become named registered manager of this large service catering for the care of elderly residents . the service is set within large grounds and caters for specific care within different units . this position requires a strong manager who is able to manage a large service , residents and staff whilst organising and prioritising to market the service . your primary responsibilities will be : care revenue finance customer service compliance marketing you must have previous general management experience , managing large teams of people with at least 2 years experience in a senior management capacity . ideally you will have a nursing qualification or a health and social care qualification with a managers award . candidates with a proven track record and the ability to manage a large service working to strict policies and procedures . in your return for your xxunk and commitment you will benefit from a very attractive salary of dependent on your experience . if you are a strong leader who is able to implement positive change , drive a service and impact others then i would be keen to hear from you . this opportunity is not to be missed please apply by emailing your cv to cfranceeclypserecruitment.co.uk,xxbos care home deputy manager this job description is designed to give candidates details of the post and to form an integral part of the contract of employment for the post holder . minimum qualifications : registered general nurse / registered mental nurse ( as appropriate ) currently registered with nmc responsible to : home manager hours of duty : hours per week minimum objectives of post to implement care home policies formula directed towards high standards of resident care , staff welfare and training , and ensure the good reputation of the business in cooperation with the home manager . functions professional administrative / managerial personnel education and training professional supervise the professional work of staff within the nursing home , in cooperation with the home manager in accordance with : a. nmc code of conduct . b. operational manual of the care home . c. employee handbook . assess , plan , implement and evaluate individual care of residents . ensure treatments are carried out as prescribed . follow nursing home policy in respect of custody and administration of all drugs . maintain personal contact with residents , their relatives and visitors to enhance the residents ’ quality of life participate in the evaluation and review of policies and report to the home manager matters that effect policy . take appropriate action in the event of an emergency , in accordance with care home policy . administrative / managerial assist the home manager and deputise in the overall management of the care home as required . assist in planning workloads and nursing resources as effectively as possible . assist in maintaining stocks / stores at adequate levels , being mindful of the need for economy and good housekeeping . ensure the safe care and custody of residents ’ property in accordance with care home policy . report any accident / incident , loss or theft to the home manager and complete necessary statements promptly . ensure that accurate care records are maintained in accordance with agreed policy . personnel maintain a working knowledge of : the health & safety at work act the operational policies manual the employee handbook assist with supervision and assessment of junior staff . assist in staff recruitment . assist in staff disciplinary procedures as required . education and training attend study days and courses as appropriate . update clinical knowledge and skills . 3 participate in inservice training for more junior members of staff . assist in the orientation programmes of all new care staff . for a full job specification , please call the kareplus head office in wolverhampton .\n",
      "y: FloatList\n",
      "0.33708984,0.17136228,0.22315213,0.34399512,0.21279417\n",
      "Path: models_text_tab;\n",
      "\n",
      "Valid: LabelList (1000 items)\n",
      "x: TextList\n",
      "xxbos prison pharmacist london term : 2 months initially tla are currently recruiting for london based xxunk with prior experience and security clearance to work within the prison service . working hours will fulltime ( 37.5hrs per week ) mondayfriday general pharmaceutical council registration is essential for this requirement . successful candidates will require experience in the following areas : xxunk prison pharmacy experience gphc registration nationwide / local security clearance tla is an equal opportunities employer . please apply now to speak to one of our experienced consultants in more detail about this opportunity . tla group specialise in sourcing opportunities for our candidates through access to temporary , contract and permanent opportunities with clients throughout the uk and in locations overseas . the recruitment teams have many years healthcare and medical recruitment experience which means that they fully understand your needs . for a first class experience , from an agency that takes care of its candidates , whether you are qualified in the medical , allied health to,xxbos description : php developer / web developer bournemouth php , mysql , javascript , html / css our xxunk winning client is looking to recruit an exceptionally talented php developer within a fast moving and rapidly growing agency . the ideal candidate will be a passionate , versatile and professional with a wide skill set to deal with the demands of well known and xxunk brands . key responsibilities working in the digital production team , you will be responsible to the head of digital with your focus on technical implementation of web and digital development projects . you will be able to create structured , xxunk and xxunk code written yourself , as well as being proficient using open source xxunk products and source code libraries . this will be carried out to a deadline and project specification . work will include a variety of projects including , but not limited to , developing static , content managed , ecommerce , mobile websites , xxunk as well as email templates and social media campaigns . the right candidate should also be able to assist the team by recommendations on technology used within the department ( cms platform , programming languages used , technical implementation suggestions ) to meet client briefs . working with an experienced digital team of account managers , project managers and designers , you will be able to communicate with these departments , contribute to ideas , innovation and creative discussions . with a cando attitude you will be a team player that is happy to solve technical problems and get involved with support issues . meeting the brief and specification of projects is a must . your performance will be measured against meeting agreed deadlines and taking the agreed number of hours to produce quality work . other tasks may be reasonably assigned to you . knowledge , skills and attributes required writing php to a good standard designing mysql databases and writing complex , high performance queries good understanding of apache and iis web services knowledge of wordpress , xxunk and other cms an advantage writing xxunk css for basic to xxunk complex design knowledge of writing javascript code from scratch experience of the following would be an advantage , but not essential : experience of the xxunk framework or another php mvc framework like xxunk , xxunk experience of building mobile websites and applications php design patterns and an understanding of oop practices html5 / css3 magento or other xxunk platforms php developer bournemouth mysql javascript html css,xxbos theatre practitioners ( rgn and odp ) negotiable northamptonshire full time if you are an experienced theatre nurse or odp and are looking for a change in career , then we have an opportunity for you to join one of the most forward thinking private hospital groups in the uk . due to our clients recent xxunk and extension of its theatres , compass associates is searching for theatre practitioners in all specialities who are committed to providing patient care of the highest quality . experienced in all or any of the theatre disciplines of anaesthetic , scrub and recovery , my client will pay a competitive salary in line with your experience . successful applicants will be able to work well under pressure and be an enthusiastic and committed team player . as part of an extremely professional team , your communication skills will be of paramount importance as will your organisational skills . if you would like to apply for any of the roles available then please send your cv to grehrcompassltd.co.uk or call geoff rehr , compass associates on,xxbos home manager residential care bridgwater compass associates are currently recruiting for an experience manager for a senior position within a well respected provider . this role is suitable for someone who has experience in managing a team within mental health / learning disabilities / physical disabilities . the successful candidate is likely to hold an nvq / rma . a generous salary of is on offer plus benefits . please click apply today .,xxbos bluebird care ( weymouth & west dorset ) is looking to recruit carers based in xxunk to join our growing care at home service our carers are the lifeblood of our business and that is why we offer to per hour as well as a mileage allowance and excellent training and devlopment opportunities . we are determined to recruit only the most professional and caring people who are passionate about the standard of care they deliver . we provide care for customers within their own homes so own car and willingness to travel in and around xxunk is essential . call us today on or send your cv.to advance your career in care or to learn more about bluebird care ( weymouth & west dorset ) visit our homepage at www.bluebirdcare.co.uk / weymouth\n",
      "y: FloatList\n",
      "0.33543256,0.13683571,0.1610043,0.15755165,0.087635346\n",
      "Path: models_text_tab;\n",
      "\n",
      "Test: None\n"
     ]
    }
   ],
   "source": [
    "# instantiate the learner object\n",
    "print(tab_db)\n",
    "print(text_db)\n",
    "learner = get_concat_learner(data,tab_db,text_db)"
   ]
  },
  {
   "cell_type": "code",
   "execution_count": 23,
   "id": "a03b9a4c",
   "metadata": {},
   "outputs": [
    {
     "data": {
      "text/plain": [
       "ConcatModel(\n",
       "  (mod_tab): TabularModel(\n",
       "    (embeds): ModuleList(\n",
       "      (0): Embedding(3412, 152)\n",
       "      (1): Embedding(637, 59)\n",
       "      (2): Embedding(4, 3)\n",
       "      (3): Embedding(4, 3)\n",
       "      (4): Embedding(281, 38)\n",
       "      (5): Embedding(29, 11)\n",
       "    )\n",
       "    (emb_drop): Dropout(p=0.0, inplace=False)\n",
       "    (bn_cont): BatchNorm1d(0, eps=1e-05, momentum=0.1, affine=True, track_running_stats=True)\n",
       "    (layers): Sequential(\n",
       "      (0): Linear(in_features=266, out_features=100, bias=True)\n",
       "      (1): ReLU(inplace=True)\n",
       "    )\n",
       "  )\n",
       "  (mod_nlp): SequentialRNN(\n",
       "    (0): MultiBatchEncoder(\n",
       "      (module): AWD_LSTM(\n",
       "        (encoder): Embedding(8064, 400, padding_idx=1)\n",
       "        (encoder_dp): EmbeddingDropout(\n",
       "          (emb): Embedding(8064, 400, padding_idx=1)\n",
       "        )\n",
       "        (rnns): ModuleList(\n",
       "          (0): WeightDropout(\n",
       "            (module): LSTM(400, 1152, batch_first=True)\n",
       "          )\n",
       "          (1): WeightDropout(\n",
       "            (module): LSTM(1152, 1152, batch_first=True)\n",
       "          )\n",
       "          (2): WeightDropout(\n",
       "            (module): LSTM(1152, 400, batch_first=True)\n",
       "          )\n",
       "        )\n",
       "        (input_dp): RNNDropout()\n",
       "        (hidden_dps): ModuleList(\n",
       "          (0): RNNDropout()\n",
       "          (1): RNNDropout()\n",
       "          (2): RNNDropout()\n",
       "        )\n",
       "      )\n",
       "    )\n",
       "    (1): PoolingLinearClassifier(\n",
       "      (layers): Sequential(\n",
       "        (0): BatchNorm1d(1200, eps=1e-05, momentum=0.1, affine=True, track_running_stats=True)\n",
       "        (1): Dropout(p=0.4, inplace=False)\n",
       "        (2): Linear(in_features=1200, out_features=300, bias=True)\n",
       "        (3): ReLU(inplace=True)\n",
       "      )\n",
       "    )\n",
       "  )\n",
       "  (layers): Sequential(\n",
       "    (0): BatchNorm1d(400, eps=1e-05, momentum=0.1, affine=True, track_running_stats=True)\n",
       "    (1): Dropout(p=0.3, inplace=False)\n",
       "    (2): Linear(in_features=400, out_features=200, bias=True)\n",
       "    (3): Sigmoid()\n",
       "    (4): BatchNorm1d(200, eps=1e-05, momentum=0.1, affine=True, track_running_stats=True)\n",
       "    (5): Dropout(p=0.2, inplace=False)\n",
       "    (6): Linear(in_features=200, out_features=1, bias=True)\n",
       "  )\n",
       ")"
      ]
     },
     "execution_count": 23,
     "metadata": {},
     "output_type": "execute_result"
    }
   ],
   "source": [
    "learner.model"
   ]
  },
  {
   "cell_type": "code",
   "execution_count": 24,
   "id": "2bd4ee72",
   "metadata": {},
   "outputs": [
    {
     "data": {
      "text/html": [
       "\n",
       "    <div>\n",
       "        <style>\n",
       "            /* Turns off some styling */\n",
       "            progress {\n",
       "                /* gets rid of default border in Firefox and Opera. */\n",
       "                border: none;\n",
       "                /* Needs to be in here for Safari polyfill so background images work as expected. */\n",
       "                background-size: auto;\n",
       "            }\n",
       "            .progress-bar-interrupted, .progress-bar-interrupted::-webkit-progress-bar {\n",
       "                background: #F44336;\n",
       "            }\n",
       "        </style>\n",
       "      <progress value='0' class='' max='1' style='width:300px; height:20px; vertical-align: middle;'></progress>\n",
       "      0.00% [0/1 00:00<00:00]\n",
       "    </div>\n",
       "    \n",
       "<table border=\"1\" class=\"dataframe\">\n",
       "  <thead>\n",
       "    <tr style=\"text-align: left;\">\n",
       "      <th>epoch</th>\n",
       "      <th>train_loss</th>\n",
       "      <th>valid_loss</th>\n",
       "      <th>mean_absolute_error</th>\n",
       "      <th>time</th>\n",
       "    </tr>\n",
       "  </thead>\n",
       "  <tbody>\n",
       "  </tbody>\n",
       "</table><p>\n",
       "\n",
       "    <div>\n",
       "        <style>\n",
       "            /* Turns off some styling */\n",
       "            progress {\n",
       "                /* gets rid of default border in Firefox and Opera. */\n",
       "                border: none;\n",
       "                /* Needs to be in here for Safari polyfill so background images work as expected. */\n",
       "                background-size: auto;\n",
       "            }\n",
       "            .progress-bar-interrupted, .progress-bar-interrupted::-webkit-progress-bar {\n",
       "                background: #F44336;\n",
       "            }\n",
       "        </style>\n",
       "      <progress value='78' class='' max='1000' style='width:300px; height:20px; vertical-align: middle;'></progress>\n",
       "      7.80% [78/1000 03:11<37:46 1.3223]\n",
       "    </div>\n",
       "    "
      ],
      "text/plain": [
       "<IPython.core.display.HTML object>"
      ]
     },
     "metadata": {},
     "output_type": "display_data"
    },
    {
     "name": "stdout",
     "output_type": "stream",
     "text": [
      "LR Finder is complete, type {learner_name}.recorder.plot() to see the graph.\n"
     ]
    },
    {
     "data": {
      "image/png": "[encoded data removed]",
      "text/plain": [
       "<Figure size 432x288 with 1 Axes>"
      ]
     },
     "metadata": {
      "needs_background": "light"
     },
     "output_type": "display_data"
    }
   ],
   "source": [
    "# use the learning rate finder \n",
    "learner.lr_find()\n",
    "learner.recorder.plot(skip_end=1)"
   ]
  },
  {
   "cell_type": "code",
   "execution_count": null,
   "id": "6c9fd133",
   "metadata": {},
   "outputs": [
    {
     "data": {
      "text/html": [
       "\n",
       "    <div>\n",
       "        <style>\n",
       "            /* Turns off some styling */\n",
       "            progress {\n",
       "                /* gets rid of default border in Firefox and Opera. */\n",
       "                border: none;\n",
       "                /* Needs to be in here for Safari polyfill so background images work as expected. */\n",
       "                background-size: auto;\n",
       "            }\n",
       "            .progress-bar-interrupted, .progress-bar-interrupted::-webkit-progress-bar {\n",
       "                background: #F44336;\n",
       "            }\n",
       "        </style>\n",
       "      <progress value='2' class='' max='5' style='width:300px; height:20px; vertical-align: middle;'></progress>\n",
       "      40.00% [2/5 1:20:32<2:00:49]\n",
       "    </div>\n",
       "    \n",
       "<table border=\"1\" class=\"dataframe\">\n",
       "  <thead>\n",
       "    <tr style=\"text-align: left;\">\n",
       "      <th>epoch</th>\n",
       "      <th>train_loss</th>\n",
       "      <th>valid_loss</th>\n",
       "      <th>mean_absolute_error</th>\n",
       "      <th>time</th>\n",
       "    </tr>\n",
       "  </thead>\n",
       "  <tbody>\n",
       "    <tr>\n",
       "      <td>0</td>\n",
       "      <td>0.042498</td>\n",
       "      <td>0.048305</td>\n",
       "      <td>0.188208</td>\n",
       "      <td>39:30</td>\n",
       "    </tr>\n",
       "    <tr>\n",
       "      <td>1</td>\n",
       "      <td>0.010877</td>\n",
       "      <td>0.011063</td>\n",
       "      <td>0.066017</td>\n",
       "      <td>41:01</td>\n",
       "    </tr>\n",
       "  </tbody>\n",
       "</table><p>\n",
       "\n",
       "    <div>\n",
       "        <style>\n",
       "            /* Turns off some styling */\n",
       "            progress {\n",
       "                /* gets rid of default border in Firefox and Opera. */\n",
       "                border: none;\n",
       "                /* Needs to be in here for Safari polyfill so background images work as expected. */\n",
       "                background-size: auto;\n",
       "            }\n",
       "            .progress-bar-interrupted, .progress-bar-interrupted::-webkit-progress-bar {\n",
       "                background: #F44336;\n",
       "            }\n",
       "        </style>\n",
       "      <progress value='20' class='' max='1000' style='width:300px; height:20px; vertical-align: middle;'></progress>\n",
       "      2.00% [20/1000 00:59<48:25 0.0105]\n",
       "    </div>\n",
       "    "
      ],
      "text/plain": [
       "<IPython.core.display.HTML object>"
      ]
     },
     "metadata": {},
     "output_type": "display_data"
    }
   ],
   "source": [
    "learner.fit_one_cycle(5, 1e-2, moms=(0.8,0.7)) "
   ]
  }
 ],
 "metadata": {
  "kernelspec": {
   "display_name": "Python 3 (ipykernel)",
   "language": "python",
   "name": "python3"
  },
  "language_info": {
   "codemirror_mode": {
    "name": "ipython",
    "version": 3
   },
   "file_extension": ".py",
   "mimetype": "text/x-python",
   "name": "python",
   "nbconvert_exporter": "python",
   "pygments_lexer": "ipython3",
   "version": "3.9.7"
  }
 },
 "nbformat": 4,
 "nbformat_minor": 5
}
