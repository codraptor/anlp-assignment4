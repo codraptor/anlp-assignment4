{
 "cells": [
  {
   "cell_type": "code",
   "execution_count": 1,
   "id": "22a46a72",
   "metadata": {},
   "outputs": [],
   "source": [
    "# load dependencies\n",
    "from fastai.imports import *\n",
    "from fastai.text import *\n",
    "from fastai.tabular import *\n",
    "from fastai.text.data import *\n",
    "from torch.utils.data import Dataset, DataLoader\n",
    "import torch.nn as nn\n",
    "from sklearn.model_selection import train_test_split"
   ]
  },
  {
   "cell_type": "code",
   "execution_count": 2,
   "id": "a33f89b4",
   "metadata": {},
   "outputs": [],
   "source": [
    "# extend torch.utils.data.dataset.Dataset to provide us with x1 and x2\n",
    "# x1 will be used for the tabular submodule and x2 for the text submodule\n",
    "class ConcatDataset(Dataset):\n",
    "    def __init__(self, x1, x2, y): self.x1, self.x2, self.y = x1, x2, y\n",
    "    def __len__(self): return len(self.y)\n",
    "    def __getitem__(self, i): return (self.x1[i], self.x2[i]), self.y[i]\n",
    "\n",
    "    \n",
    "# define a custom collate function to be used to create a Concat DataBunch later\n",
    "def tabtext_collate(batch):\n",
    "    x, y = list(zip(*batch))\n",
    "    # x1 is (cat,cont), x2 is numericalized ids for text\n",
    "    x1, x2 = list(zip(*x))\n",
    "    x1 = to_data(x1)\n",
    "    x1 = list(zip(*x1))\n",
    "    x1 = torch.stack(x1[0]), torch.stack(x1[1])\n",
    "    x2, y = pad_collate(list(zip(x2, y)), pad_idx=1, pad_first=True)\n",
    "    return (x1, x2), y\n"
   ]
  },
  {
   "cell_type": "code",
   "execution_count": 3,
   "id": "03323eff",
   "metadata": {},
   "outputs": [],
   "source": [
    "# setup path variables to load data and save intermediate files\n",
    "DATA_PATH = Path('./input')\n",
    "MODEL_LM_PATH = Path('models_lm')\n",
    "MODEL_LM_PATH.mkdir(exist_ok=True)\n",
    "MODEL_TEXT_TAB_PATH = Path('models_text_tab')\n",
    "MODEL_TEXT_TAB_PATH.mkdir(exist_ok=True)"
   ]
  },
  {
   "cell_type": "code",
   "execution_count": 4,
   "id": "ad124a6e",
   "metadata": {},
   "outputs": [
    {
     "name": "stdout",
     "output_type": "stream",
     "text": [
      "134000\n",
      "800 datapoints in training set\n",
      "200 datapoints in validation set\n",
      "1000 datapoints in full set\n"
     ]
    }
   ],
   "source": [
    "## load data\n",
    "df_train = pd.read_csv(DATA_PATH/'train.csv')\n",
    "\n",
    "df_train['Title'] = df_train['Title'].str.lower()\n",
    "df_train['FullDescription'] = df_train['FullDescription'].str.lower()\n",
    "df_train['LocationNormalized'] = df_train['LocationNormalized'].str.lower()\n",
    "df_train['ContractType'] = df_train['ContractType'].str.lower()\n",
    "df_train['Company'] = df_train['Company'].str.lower()\n",
    "df_train['ContractTime'] = df_train['ContractTime'].str.lower()\n",
    "df_train['Category'] = df_train['Category'].str.lower()\n",
    "\n",
    "print(df_train['SalaryNormalized'].max() - df_train['SalaryNormalized'].min())\n",
    "\n",
    "df_train['SalaryNormalized'] = (df_train['SalaryNormalized'] - df_train['SalaryNormalized'].min()) / (df_train['SalaryNormalized'].max() - df_train['SalaryNormalized'].min())    \n",
    "\n",
    "f = lambda x: ' '.join([item for item in x.split() if \"**\" not in item])\n",
    "df_train[\"FullDescription\"] = df_train[\"FullDescription\"].apply(f)\n",
    "\n",
    "df_train, df_valid = train_test_split(df_train, test_size=0.2)\n",
    "\n",
    "print(f'{df_train.shape[0]} datapoints in training set')\n",
    "print(f'{df_valid.shape[0]} datapoints in validation set')\n",
    "\n",
    "# bring data in the right format to convert it to a fastai Databunch\n",
    "df_all = pd.concat([df_train, df_valid]).reset_index(drop=True)\n",
    "df_all.fillna('', inplace=True)\n",
    "\n",
    "print(f'{df_all.shape[0]} datapoints in full set')\n",
    "\n",
    "# save indexes of validation datapoints\n",
    "val_idxs = np.arange(df_train.shape[0], df_all.shape[0])\n",
    "\n",
    "df_all['LocationNormalized'] = df_all['LocationNormalized'].rank(method='dense', ascending=False).astype(int)\n",
    "df_all['Title'] = df_all['Title'].rank(method='dense', ascending=False).astype(int)\n",
    "df_all['ContractType'] = df_all['ContractType'].rank(method='dense', ascending=False).astype(int)\n",
    "df_all['Company'] = df_all['Company'].rank(method='dense', ascending=False).astype(int)\n",
    "df_all['ContractTime'] = df_all['ContractTime'].rank(method='dense', ascending=False).astype(int)\n",
    "df_all['Category'] = df_all['Category'].rank(method='dense', ascending=False).astype(int)\n"
   ]
  },
  {
   "cell_type": "code",
   "execution_count": 5,
   "id": "2b25f582",
   "metadata": {},
   "outputs": [
    {
     "data": {
      "text/html": [],
      "text/plain": [
       "<IPython.core.display.HTML object>"
      ]
     },
     "metadata": {},
     "output_type": "display_data"
    },
    {
     "name": "stderr",
     "output_type": "stream",
     "text": [
      "C:\\Users\\rishu\\anaconda3\\lib\\site-packages\\fastai\\core.py:302: VisibleDeprecationWarning: Creating an ndarray from ragged nested sequences (which is a list-or-tuple of lists-or-tuples-or ndarrays with different lengths or shapes) is deprecated. If you meant to do this, you must specify 'dtype=object' when creating the ndarray.\n",
      "  return np.array(a, dtype=dtype, **kwargs)\n"
     ]
    },
    {
     "data": {
      "text/html": [],
      "text/plain": [
       "<IPython.core.display.HTML object>"
      ]
     },
     "metadata": {},
     "output_type": "display_data"
    }
   ],
   "source": [
    "# set batch size\n",
    "bs = 32\n",
    "\n",
    "# create Databunch (https://docs.fast.ai/text.data.html)\n",
    "data_lm = (TextList.from_df(df_all, cols=['FullDescription'])\n",
    "                           .split_by_idx(val_idxs)\n",
    "                           .label_for_lm()  \n",
    "                           .databunch(path=MODEL_LM_PATH, bs=bs))"
   ]
  },
  {
   "cell_type": "code",
   "execution_count": 6,
   "id": "b75093a5",
   "metadata": {},
   "outputs": [
    {
     "data": {
      "text/html": [
       "<table border=\"1\" class=\"dataframe\">\n",
       "  <thead>\n",
       "    <tr style=\"text-align: right;\">\n",
       "      <th>idx</th>\n",
       "      <th>text</th>\n",
       "    </tr>\n",
       "  </thead>\n",
       "  <tbody>\n",
       "    <tr>\n",
       "      <td>0</td>\n",
       "      <td>a fasttrack crb check ongoing training and development bonus schemes such as our ‘ introduce a friend ’ incentive we can guarantee a friendly and professional service and offer a variety of work around the local area , whether you are looking for parttime , fulltime or flexible hours . essential requirements : minimum of 6 months care experience within the uk driving licence and access to a car ability</td>\n",
       "    </tr>\n",
       "    <tr>\n",
       "      <td>1</td>\n",
       "      <td>assess patient needs from a xxunk and psychological perspective , and plan clinical care accordingly . you will have the ability and confidence to assess , diagnosis , plan , implement and evaluate interventions / treatments for patients with complex needs and proactively identify , diagnose and manage treatment plans for patients at risk of developing a longterm condition ( as appropriate ) . you will diagnose and manage both</td>\n",
       "    </tr>\n",
       "    <tr>\n",
       "      <td>2</td>\n",
       "      <td>competitive salary of up to for exceptional candidates plus up to 20 % management bonuses and company incentives this is a very attractive role . please express your interest by clicking apply today . key words nursing home manager , elderly care , nursing home , dementia , rgn home manager , rmn home manager , liverpool , merseyside xxbos xxunk are looking for registered general nurses and hca 's</td>\n",
       "    </tr>\n",
       "    <tr>\n",
       "      <td>3</td>\n",
       "      <td>care , xxunk . toileting , assisting with use of commode , emptying commode . continence management using manual handling equipment as specified . working with other care professionals such as district nurses , gps , etc . assisting with prescribed medication assist customers to go to bed , including undressing and washing preparation of meals and assistance with feeding general household duties bed making and laundry shopping and supplies</td>\n",
       "    </tr>\n",
       "    <tr>\n",
       "      <td>4</td>\n",
       "      <td>recruitment keywords : registered mental health nurse , rmn , senior nurse , general nurse xxbos night rgn christchurch , dorset eclypse recruitment is currently looking to recruit a night rgn for a nursing home in christchurch , dorset . we are looking for a rgn who ideally has experience working with the elderly or in nursing homes . the home caters for elderly frail residents aged over xxunk years</td>\n",
       "    </tr>\n",
       "  </tbody>\n",
       "</table>"
      ],
      "text/plain": [
       "<IPython.core.display.HTML object>"
      ]
     },
     "metadata": {},
     "output_type": "display_data"
    }
   ],
   "source": [
    "data_lm.show_batch()"
   ]
  },
  {
   "cell_type": "code",
   "execution_count": 7,
   "id": "412fbb50",
   "metadata": {},
   "outputs": [],
   "source": [
    "data_lm.save('data_lm.pkl')"
   ]
  },
  {
   "cell_type": "code",
   "execution_count": 8,
   "id": "641d5d9a",
   "metadata": {},
   "outputs": [],
   "source": [
    "# create learner (https://docs.fast.ai/text.learner.html)\n",
    "learn = language_model_learner(data_lm, AWD_LSTM, drop_mult=0.5, path=MODEL_LM_PATH)"
   ]
  },
  {
   "cell_type": "code",
   "execution_count": 9,
   "id": "3a13e8d7",
   "metadata": {},
   "outputs": [
    {
     "data": {
      "text/html": [
       "\n",
       "    <div>\n",
       "        <style>\n",
       "            /* Turns off some styling */\n",
       "            progress {\n",
       "                /* gets rid of default border in Firefox and Opera. */\n",
       "                border: none;\n",
       "                /* Needs to be in here for Safari polyfill so background images work as expected. */\n",
       "                background-size: auto;\n",
       "            }\n",
       "            .progress-bar-interrupted, .progress-bar-interrupted::-webkit-progress-bar {\n",
       "                background: #F44336;\n",
       "            }\n",
       "        </style>\n",
       "      <progress value='1' class='' max='2' style='width:300px; height:20px; vertical-align: middle;'></progress>\n",
       "      50.00% [1/2 03:19<03:19]\n",
       "    </div>\n",
       "    \n",
       "<table border=\"1\" class=\"dataframe\">\n",
       "  <thead>\n",
       "    <tr style=\"text-align: left;\">\n",
       "      <th>epoch</th>\n",
       "      <th>train_loss</th>\n",
       "      <th>valid_loss</th>\n",
       "      <th>accuracy</th>\n",
       "      <th>time</th>\n",
       "    </tr>\n",
       "  </thead>\n",
       "  <tbody>\n",
       "    <tr>\n",
       "      <td>0</td>\n",
       "      <td>5.061686</td>\n",
       "      <td>#na#</td>\n",
       "      <td>03:19</td>\n",
       "    </tr>\n",
       "  </tbody>\n",
       "</table><p>\n",
       "\n",
       "    <div>\n",
       "        <style>\n",
       "            /* Turns off some styling */\n",
       "            progress {\n",
       "                /* gets rid of default border in Firefox and Opera. */\n",
       "                border: none;\n",
       "                /* Needs to be in here for Safari polyfill so background images work as expected. */\n",
       "                background-size: auto;\n",
       "            }\n",
       "            .progress-bar-interrupted, .progress-bar-interrupted::-webkit-progress-bar {\n",
       "                background: #F44336;\n",
       "            }\n",
       "        </style>\n",
       "      <progress value='19' class='' max='80' style='width:300px; height:20px; vertical-align: middle;'></progress>\n",
       "      23.75% [19/80 00:48<02:36 10.1151]\n",
       "    </div>\n",
       "    "
      ],
      "text/plain": [
       "<IPython.core.display.HTML object>"
      ]
     },
     "metadata": {},
     "output_type": "display_data"
    },
    {
     "name": "stdout",
     "output_type": "stream",
     "text": [
      "LR Finder is complete, type {learner_name}.recorder.plot() to see the graph.\n"
     ]
    },
    {
     "data": {
      "image/png": "[encoded data removed]",
      "text/plain": [
       "<Figure size 432x288 with 1 Axes>"
      ]
     },
     "metadata": {
      "needs_background": "light"
     },
     "output_type": "display_data"
    }
   ],
   "source": [
    "# use the learning rate finder \n",
    "learn.lr_find()\n",
    "learn.recorder.plot()"
   ]
  },
  {
   "cell_type": "code",
   "execution_count": 10,
   "id": "3656de6b",
   "metadata": {},
   "outputs": [
    {
     "data": {
      "text/html": [
       "<table border=\"1\" class=\"dataframe\">\n",
       "  <thead>\n",
       "    <tr style=\"text-align: left;\">\n",
       "      <th>epoch</th>\n",
       "      <th>train_loss</th>\n",
       "      <th>valid_loss</th>\n",
       "      <th>accuracy</th>\n",
       "      <th>time</th>\n",
       "    </tr>\n",
       "  </thead>\n",
       "  <tbody>\n",
       "    <tr>\n",
       "      <td>0</td>\n",
       "      <td>4.648315</td>\n",
       "      <td>3.778777</td>\n",
       "      <td>0.295578</td>\n",
       "      <td>03:50</td>\n",
       "    </tr>\n",
       "    <tr>\n",
       "      <td>1</td>\n",
       "      <td>3.581872</td>\n",
       "      <td>2.987415</td>\n",
       "      <td>0.405782</td>\n",
       "      <td>03:51</td>\n",
       "    </tr>\n",
       "    <tr>\n",
       "      <td>2</td>\n",
       "      <td>2.965562</td>\n",
       "      <td>2.726072</td>\n",
       "      <td>0.449724</td>\n",
       "      <td>03:52</td>\n",
       "    </tr>\n",
       "    <tr>\n",
       "      <td>3</td>\n",
       "      <td>2.620636</td>\n",
       "      <td>2.611360</td>\n",
       "      <td>0.474298</td>\n",
       "      <td>03:52</td>\n",
       "    </tr>\n",
       "    <tr>\n",
       "      <td>4</td>\n",
       "      <td>2.441609</td>\n",
       "      <td>2.595681</td>\n",
       "      <td>0.477126</td>\n",
       "      <td>03:52</td>\n",
       "    </tr>\n",
       "  </tbody>\n",
       "</table>"
      ],
      "text/plain": [
       "<IPython.core.display.HTML object>"
      ]
     },
     "metadata": {},
     "output_type": "display_data"
    }
   ],
   "source": [
    "learn.fit_one_cycle(5, 1e-2, moms=(0.8,0.7)) "
   ]
  },
  {
   "cell_type": "code",
   "execution_count": 11,
   "id": "1e6f61ea",
   "metadata": {},
   "outputs": [],
   "source": [
    "# To complete the fine-tuning, we can then unfeeze and launch a new training.\n",
    "learn.unfreeze()"
   ]
  },
  {
   "cell_type": "code",
   "execution_count": 12,
   "id": "b397d4ea",
   "metadata": {},
   "outputs": [
    {
     "data": {
      "text/html": [
       "\n",
       "    <div>\n",
       "        <style>\n",
       "            /* Turns off some styling */\n",
       "            progress {\n",
       "                /* gets rid of default border in Firefox and Opera. */\n",
       "                border: none;\n",
       "                /* Needs to be in here for Safari polyfill so background images work as expected. */\n",
       "                background-size: auto;\n",
       "            }\n",
       "            .progress-bar-interrupted, .progress-bar-interrupted::-webkit-progress-bar {\n",
       "                background: #F44336;\n",
       "            }\n",
       "        </style>\n",
       "      <progress value='1' class='' max='2' style='width:300px; height:20px; vertical-align: middle;'></progress>\n",
       "      50.00% [1/2 06:28<06:28]\n",
       "    </div>\n",
       "    \n",
       "<table border=\"1\" class=\"dataframe\">\n",
       "  <thead>\n",
       "    <tr style=\"text-align: left;\">\n",
       "      <th>epoch</th>\n",
       "      <th>train_loss</th>\n",
       "      <th>valid_loss</th>\n",
       "      <th>accuracy</th>\n",
       "      <th>time</th>\n",
       "    </tr>\n",
       "  </thead>\n",
       "  <tbody>\n",
       "    <tr>\n",
       "      <td>0</td>\n",
       "      <td>3.302347</td>\n",
       "      <td>#na#</td>\n",
       "      <td>06:28</td>\n",
       "    </tr>\n",
       "  </tbody>\n",
       "</table><p>\n",
       "\n",
       "    <div>\n",
       "        <style>\n",
       "            /* Turns off some styling */\n",
       "            progress {\n",
       "                /* gets rid of default border in Firefox and Opera. */\n",
       "                border: none;\n",
       "                /* Needs to be in here for Safari polyfill so background images work as expected. */\n",
       "                background-size: auto;\n",
       "            }\n",
       "            .progress-bar-interrupted, .progress-bar-interrupted::-webkit-progress-bar {\n",
       "                background: #F44336;\n",
       "            }\n",
       "        </style>\n",
       "      <progress value='12' class='' max='80' style='width:300px; height:20px; vertical-align: middle;'></progress>\n",
       "      15.00% [12/80 01:07<06:20 8.5275]\n",
       "    </div>\n",
       "    "
      ],
      "text/plain": [
       "<IPython.core.display.HTML object>"
      ]
     },
     "metadata": {},
     "output_type": "display_data"
    },
    {
     "name": "stdout",
     "output_type": "stream",
     "text": [
      "LR Finder is complete, type {learner_name}.recorder.plot() to see the graph.\n"
     ]
    },
    {
     "data": {
      "image/png": "[encoded data removed]",
      "text/plain": [
       "<Figure size 432x288 with 1 Axes>"
      ]
     },
     "metadata": {
      "needs_background": "light"
     },
     "output_type": "display_data"
    }
   ],
   "source": [
    "# use the learning rate finder again\n",
    "learn.lr_find()\n",
    "learn.recorder.plot()"
   ]
  },
  {
   "cell_type": "code",
   "execution_count": 13,
   "id": "d56683ac",
   "metadata": {},
   "outputs": [
    {
     "data": {
      "text/html": [
       "<table border=\"1\" class=\"dataframe\">\n",
       "  <thead>\n",
       "    <tr style=\"text-align: left;\">\n",
       "      <th>epoch</th>\n",
       "      <th>train_loss</th>\n",
       "      <th>valid_loss</th>\n",
       "      <th>accuracy</th>\n",
       "      <th>time</th>\n",
       "    </tr>\n",
       "  </thead>\n",
       "  <tbody>\n",
       "    <tr>\n",
       "      <td>0</td>\n",
       "      <td>2.311171</td>\n",
       "      <td>2.432048</td>\n",
       "      <td>0.504273</td>\n",
       "      <td>06:53</td>\n",
       "    </tr>\n",
       "    <tr>\n",
       "      <td>1</td>\n",
       "      <td>2.103179</td>\n",
       "      <td>2.197061</td>\n",
       "      <td>0.556505</td>\n",
       "      <td>06:56</td>\n",
       "    </tr>\n",
       "    <tr>\n",
       "      <td>2</td>\n",
       "      <td>1.811248</td>\n",
       "      <td>2.060867</td>\n",
       "      <td>0.591093</td>\n",
       "      <td>06:55</td>\n",
       "    </tr>\n",
       "    <tr>\n",
       "      <td>3</td>\n",
       "      <td>1.516321</td>\n",
       "      <td>1.998271</td>\n",
       "      <td>0.608674</td>\n",
       "      <td>06:55</td>\n",
       "    </tr>\n",
       "    <tr>\n",
       "      <td>4</td>\n",
       "      <td>1.326167</td>\n",
       "      <td>1.996034</td>\n",
       "      <td>0.612436</td>\n",
       "      <td>07:07</td>\n",
       "    </tr>\n",
       "  </tbody>\n",
       "</table>"
      ],
      "text/plain": [
       "<IPython.core.display.HTML object>"
      ]
     },
     "metadata": {},
     "output_type": "display_data"
    }
   ],
   "source": [
    "learn.fit_one_cycle(5, 1e-3, moms=(0.8,0.7)) "
   ]
  },
  {
   "cell_type": "code",
   "execution_count": 14,
   "id": "ffc40fd8",
   "metadata": {},
   "outputs": [],
   "source": [
    "learn.save_encoder('fine_tuned_enc')"
   ]
  },
  {
   "cell_type": "code",
   "execution_count": 15,
   "id": "a918f682",
   "metadata": {},
   "outputs": [],
   "source": [
    "cat_names = ['Title','LocationNormalized','ContractType','ContractTime','Company','Category'] # categorical\n",
    "cont_names = [] # continous variables (in our case we don't have any) \n",
    "dep_var = 'SalaryNormalized' # label\n",
    "procs = [FillMissing, Categorify, Normalize] # preprocessing steps\n",
    "txt_cols=['FullDescription'] # text\n",
    "bs = 8 # batch size\n"
   ]
  },
  {
   "cell_type": "code",
   "execution_count": 16,
   "id": "e16a7ab8",
   "metadata": {},
   "outputs": [],
   "source": [
    "# get tabular Databunch from the fast.ai Tabular module (docs: https://docs.fast.ai/tabular.data.html)\n",
    "def get_tab_databunch(df,bs=bs,val_idxs=val_idxs, path = MODEL_TEXT_TAB_PATH):\n",
    "        \n",
    "    return (TabularList.from_df(df, cat_names, cont_names, procs=procs, path=path)\n",
    "                            .split_by_idx(val_idxs)\n",
    "                            .label_from_df(cols = dep_var, label_cls = FloatList)\n",
    "#                             .label_from_df(cols=dep_var)\n",
    "                            .databunch(bs=bs))\n",
    "\n",
    "# get Text Databunch from the fast.ai Text module (docs: https://docs.fast.ai/text.data.html)\n",
    "def get_text_databunch(df,bs=bs,val_idxs=val_idxs, path = MODEL_TEXT_TAB_PATH):\n",
    "    # load fine-tuned vocab\n",
    "    data_lm =load_data(MODEL_LM_PATH, 'data_lm.pkl', bs=bs)\n",
    "    return (TextList.from_df(df, cols = txt_cols[0], vocab=data_lm.vocab, path=path)\n",
    "                            .split_by_idx(val_idxs)\n",
    "                            .label_from_df(cols = dep_var, label_cls = FloatList)\n",
    "#                             .label_from_df(cols=dep_var)\n",
    "                            .databunch(bs=bs))"
   ]
  },
  {
   "cell_type": "code",
   "execution_count": 17,
   "id": "0d583ee0",
   "metadata": {},
   "outputs": [],
   "source": [
    "# get fast.ai tabular learner (docs: https://docs.fast.ai/tabular.models.html)\n",
    "def get_tabular_learner(data, params):\n",
    "    return tabular_learner(data,metrics=accuracy,**params)\n",
    "\n",
    "# get fast.ai text learner and load the fine-tuned weights (docs: https://docs.fast.ai/text.learner.html)\n",
    "def get_text_learner(data, params):\n",
    "    learn = text_classifier_learner(data,AWD_LSTM,metrics=accuracy,**params)\n",
    "    learn.path=MODEL_LM_PATH\n",
    "    learn.load_encoder('fine_tuned_enc')\n",
    "    learn.path=MODEL_TEXT_TAB_PATH\n",
    "    return learn"
   ]
  },
  {
   "cell_type": "code",
   "execution_count": 18,
   "id": "abe91d9c",
   "metadata": {},
   "outputs": [],
   "source": [
    "def get_data(bs=bs,path=MODEL_TEXT_TAB_PATH):\n",
    "    \n",
    "    tb_data = df_all[cat_names + cont_names + [dep_var]]\n",
    "    \n",
    "    print(tb_data) \n",
    "    \n",
    "    \n",
    "    # get databunches using fast.ai's implementation\n",
    "    tab_db = get_tab_databunch(df_all[cat_names + cont_names+ [dep_var]])\n",
    "    text_db = get_text_databunch(df_all[txt_cols +[dep_var]])\n",
    "    \n",
    "    # extend the databunches to work with our Concat Model\n",
    "    train_ds = ConcatDataset(tab_db.train_ds.x, text_db.train_ds.x, tab_db.train_ds.y)\n",
    "    valid_ds = ConcatDataset(tab_db.valid_ds.x, text_db.valid_ds.x, tab_db.valid_ds.y)\n",
    "    \n",
    "    # add sample startegies for both training and validation set\n",
    "    train_sampler = SortishSampler(text_db.train_ds.x, key=lambda t: len(text_db.train_ds[t][0].data), bs=bs//2)\n",
    "    valid_sampler = SortSampler(text_db.valid_ds.x, key=lambda t: len(text_db.valid_ds[t][0].data))\n",
    "    \n",
    "    # create DataLoaders\n",
    "    train_dl = DataLoader(train_ds, bs//2, sampler=train_sampler)\n",
    "    valid_dl = DataLoader(valid_ds, bs, sampler=valid_sampler)\n",
    "    \n",
    "    # create databunch to work with out Concat Model\n",
    "    data = DataBunch(train_dl, valid_dl, device=defaults.device, collate_fn=tabtext_collate, path=path)\n",
    "\n",
    "    return data,tab_db,text_db"
   ]
  },
  {
   "cell_type": "code",
   "execution_count": 19,
   "id": "6072ad20",
   "metadata": {},
   "outputs": [
    {
     "name": "stdout",
     "output_type": "stream",
     "text": [
      "     Title  LocationNormalized  ContractType  ContractTime  Company  Category  \\\n",
      "0      892                 340             1             3       32        10   \n",
      "1      228                  34             3             2       13         1   \n",
      "2      259                 268             2             3       32        10   \n",
      "3      938                 256             1             3       32        10   \n",
      "4      539                 156             3             3       25        14   \n",
      "..     ...                 ...           ...           ...      ...       ...   \n",
      "995    128                 308             3             3       32        10   \n",
      "996    208                 320             3             1       17        11   \n",
      "997    210                 247             3             1       17        11   \n",
      "998    142                 100             3             3       32        10   \n",
      "999    431                  34             3             1        5         4   \n",
      "\n",
      "     SalaryNormalized  \n",
      "0            0.043224  \n",
      "1            0.081194  \n",
      "2            0.138060  \n",
      "3            0.061493  \n",
      "4            0.130597  \n",
      "..                ...  \n",
      "995          0.262090  \n",
      "996          0.298507  \n",
      "997          0.238806  \n",
      "998          0.075821  \n",
      "999          0.078358  \n",
      "\n",
      "[1000 rows x 7 columns]\n"
     ]
    },
    {
     "data": {
      "text/html": [],
      "text/plain": [
       "<IPython.core.display.HTML object>"
      ]
     },
     "metadata": {},
     "output_type": "display_data"
    },
    {
     "name": "stderr",
     "output_type": "stream",
     "text": [
      "C:\\Users\\rishu\\anaconda3\\lib\\site-packages\\fastai\\core.py:302: VisibleDeprecationWarning: Creating an ndarray from ragged nested sequences (which is a list-or-tuple of lists-or-tuples-or ndarrays with different lengths or shapes) is deprecated. If you meant to do this, you must specify 'dtype=object' when creating the ndarray.\n",
      "  return np.array(a, dtype=dtype, **kwargs)\n"
     ]
    },
    {
     "data": {
      "text/html": [],
      "text/plain": [
       "<IPython.core.display.HTML object>"
      ]
     },
     "metadata": {},
     "output_type": "display_data"
    }
   ],
   "source": [
    "# instantiate all necessary DataBunches\n",
    "data,tab_db,text_db = get_data(bs=bs)"
   ]
  },
  {
   "cell_type": "code",
   "execution_count": 20,
   "id": "0c2eb8d7",
   "metadata": {},
   "outputs": [],
   "source": [
    "# custom module to concatentate the outputs of the tabular and text submodules and add the Multilayer Perceptron on top\n",
    "class ConcatModel(nn.Module):\n",
    "    def __init__(self, mod_tab, mod_nlp, layers, drops):\n",
    "        super().__init__()\n",
    "        self.mod_tab = mod_tab\n",
    "        self.mod_nlp = mod_nlp\n",
    "        lst_layers = []\n",
    "        activs = [nn.Sigmoid(), ] * (len(layers)-2) + [None]\n",
    "        for n_in, n_out, p, actn in zip(layers[:-1], layers[1:], drops, activs):\n",
    "            lst_layers += bn_drop_lin(n_in, n_out, p=p, actn=actn)\n",
    "        self.layers = nn.Sequential(*lst_layers)\n",
    "\n",
    "    def forward(self, *x):\n",
    "        x_tab = self.mod_tab(*x[0])\n",
    "        x_nlp = self.mod_nlp(x[1])[0]\n",
    "        x = torch.cat([x_tab, x_nlp], dim=1)\n",
    "        return self.layers(x)"
   ]
  },
  {
   "cell_type": "code",
   "execution_count": 21,
   "id": "3b5fc103",
   "metadata": {},
   "outputs": [],
   "source": [
    "def get_concat_learner(data, tab_db, text_db):\n",
    "    \n",
    "    # output size of the last layer of the tabular module\n",
    "    tab_out_size = 100\n",
    "    # output size of the last layer of the text module (ULMFiT)\n",
    "    text_out_size = 600\n",
    "    \n",
    "    params = {\n",
    "        'layers': [tab_out_size], # output size of the last layer of the tabular module\n",
    "        'ps': [0.], # dropout before the last layer of the tabular module\n",
    "        'emb_drop': 0., # embedding dropout for categorical features\n",
    "        'use_bn': True, # use batchnorm\n",
    "    }\n",
    "    \n",
    "    # instantiate the tabular learner\n",
    "    tab_learner = get_tabular_learner(tab_db, params)\n",
    "    # cut off layers so we can put the Concat head on top\n",
    "    tab_learner.model.layers = tab_learner.model.layers[:-2]\n",
    "\n",
    "    params = {\n",
    "        'lin_ftrs': [text_out_size],  # output size of the last layer of the text module (ULMFiT)\n",
    "        'bptt': 80, # backpropagation through time (sequence length)\n",
    "        'max_len': 20*80, # last max_len activations to be considered (see https://docs.fast.ai/text.learner.html)\n",
    "        'drop_mult': 1. # dropout rate\n",
    "    }\n",
    "    \n",
    "    # instantiate the text learner\n",
    "    text_learner = get_text_learner(text_db, params)\n",
    "    # cut off layers so we can put the Concat head on top\n",
    "    text_learner.model[-1].layers = text_learner.model[-1].layers[:-3]\n",
    "    \n",
    "    # size of fully connected layers in Concat Head\n",
    "    lin_layers = [tab_out_size + text_out_size, 200, 1]\n",
    "    # dropout rate for fully connected layers in Concat Head\n",
    "    ps = [0.3, 0.2, 0.1]\n",
    "    model = ConcatModel(tab_learner.model, text_learner.model, lin_layers, ps)\n",
    "    \n",
    "    # Use Mean Squared Error here if you want to use this for a regression task\n",
    "    loss_func = MSELossFlat()\n",
    "   \n",
    "    learn = Learner(data, model, loss_func=loss_func, metrics=mean_absolute_error)\n",
    "    \n",
    "    return learn"
   ]
  },
  {
   "cell_type": "code",
   "execution_count": 22,
   "id": "e90d1556",
   "metadata": {},
   "outputs": [
    {
     "name": "stdout",
     "output_type": "stream",
     "text": [
      "TabularDataBunch;\n",
      "\n",
      "Train: LabelList (800 items)\n",
      "x: TabularList\n",
      "Title 892; LocationNormalized 340; ContractType 1; ContractTime 3; Company 32; Category 10; ,Title 228; LocationNormalized 34; ContractType 3; ContractTime 2; Company 13; Category 1; ,Title 259; LocationNormalized 268; ContractType 2; ContractTime 3; Company 32; Category 10; ,Title 938; LocationNormalized 256; ContractType 1; ContractTime 3; Company 32; Category 10; ,Title 539; LocationNormalized 156; ContractType 3; ContractTime 3; Company 25; Category 14; \n",
      "y: FloatList\n",
      "0.04322388,0.08119403,0.1380597,0.061492536,0.13059701\n",
      "Path: models_text_tab;\n",
      "\n",
      "Valid: LabelList (200 items)\n",
      "x: TabularList\n",
      "Title #na#; LocationNormalized 77; ContractType 3; ContractTime 3; Company 32; Category 10; ,Title #na#; LocationNormalized 34; ContractType 1; ContractTime 3; Company 32; Category 10; ,Title #na#; LocationNormalized 249; ContractType 3; ContractTime 3; Company 32; Category 10; ,Title #na#; LocationNormalized 34; ContractType 2; ContractTime 3; Company 32; Category 10; ,Title #na#; LocationNormalized 156; ContractType 2; ContractTime 3; Company 32; Category 10; \n",
      "y: FloatList\n",
      "0.15319403,0.29850745,0.06865671,0.014059702,0.32656717\n",
      "Path: models_text_tab;\n",
      "\n",
      "Test: None\n",
      "TextClasDataBunch;\n",
      "\n",
      "Train: LabelList (800 items)\n",
      "x: TextList\n",
      "xxbos medacs healthcare are looking for experienced care assistants to work within xxunk and the surrounding geographical areas . you will be providing support to older people within a variety of care settings which includes residential and nursing homes , day centres and supported living accommodation . medacs healthcare can offer you many benefits , which include : competitive rates of pay a great variety of local work access to a fasttrack crb check ongoing training and development bonus schemes such as our ‘ introduce a friend ’ incentive we can guarantee a friendly and professional service and offer a variety of work around the local area , whether you are looking for parttime , fulltime or flexible hours . essential requirements : minimum of 6 months care experience within the uk driving licence and access to a car ability to work at least 16 hours per week two written references , one being healthcare related with over 20 years experience , medacs healthcare is a leading provider of healthcare professionals in the uk . working to the principles of dignity , respect and valuing people , the role of a medacs healthcare care assistant is to provide personal , domestic and general support to help people to live as independently as possible . to find out more please click apply today .,xxbos do you have a passion for sport ? can you motivate others to improve their skills ? do you have a valid level 1 or level 2 national xxunk body qualification ? kirklees active leisure ( xxunk ) is looking to develop and grow our existing sport coaching programme for both adults and young people and we are looking for enthusiastic individuals to join our teams on a self employed basis and become part of our sport coaching programmes across our sites . we are actively seeking individuals who can xxunk a wide range of xxunk including xxunk , trampolining , xxunk , football and xxunk . you will stand out because of your motivational style of coaching , passion for sport and your ability to inspire people , ensuring individuals return to your xxunk week on week . you will be a vibrant presence in our facilities and will be willing to go that extra mile for our customers . to apply for this opportunity you will need to have proof of your qualification and public xxunk insurance . various hourly sessions are held throughout the week including evenings and weekends and availability xxunk at each centre . for an informal discussion regarding this opportunity please contact the xxunk activity manager at your kirklees active leisure centre . details of all our centre 's are shown on xxunk . an enhanced criminal record bureau ( crb ) disclosure is required for these posts , a xxunk will not necessarily xxunk a candidate but will be considered as part of the recruitment process .,xxbos xxunk limited is looking for an experienced , proactive , forward thinking rmn to lead a friendly , well trained , supportive team through the transition from a residential care home to a registered nursing home and to oversee the registration process to ensure the outcomes required for registration by cqc are met . you will take the lead in using progressive methods that respond to xxunk residents in a xxunk manner and which demonstrate understanding of the source of xxunk . you will be expected to provide evidence based individual therapy that xxunk residents to take part in occupational therapy and promotes a “ recovery ” based approach to care . you will be expected to work with carers in educating them about the resident ’s mental health and to help them to develop care plans and risk assessments and apply xxunk techniques enabling them to control xxunk and behaviour .,xxbos just social care are seeking care workers whom specialise working with the adults with learning disabilities and dementia . the care homes have a high standard of care and are seeking carers who will actively engage with the service users and provide a warm and friendly environment . you must have xxunk training qualifications or an nvq level 2 . the care homes are based in and around xxunk , surrey . please click apply today .,xxbos the client our client manages and invests in office and retail investment property in the uk and europe . xxunk under management exceed xxunk , and the business is undertaking large developments , designed by world class xxunk in the city and west end . the role positions are available for outstanding xxunk , commercial xxunk with effective people skills . the role offers experience in a range of xxunk disciplines special projects , european reporting , financial xxunk and financial reporting . a very special xxunk of this role is that , due to the company 's small head office team , it offers exposure to very senior xxunk including members of the executive committee and the xxunk . successful candidates are expected to progress xxunk in this performance based environment . the person university degree in a demanding subject from a world class university ability to communicate effectively with finance and non finance professionals qualified xxunk ( aca ) with strong technical skills commercial awareness ability to manage a portfolio of responsibilities , prioritise and meet tight deadlines confident xxunk complex transactions and xxunk into xxunk features excellent it skills ability to produce well xxunk through , clearly xxunk out and xxunk xxunk and xxunk\n",
      "y: FloatList\n",
      "0.04322388,0.08119403,0.1380597,0.061492536,0.13059701\n",
      "Path: models_text_tab;\n",
      "\n",
      "Valid: LabelList (200 items)\n",
      "x: TextList\n",
      "xxbos are you and rgn job seeker in skelmersdale and surrounding areas looking for a career working with the elderly in nursing homes ? we require rgn job seekers across lancashire and merseyside for locum and shift work . stocks hall homecare and nursing agency is a branch of the stocks hall care homes ltd group . we are a reputable , long standing trusted company celebrating 25 years service in the care industry . stocks hall promises to listen , and will aim to provide quality , committed and continual improvement . we at stocks homecare and nursing agency are looking for rgn 's to work with us to cover shifts within our own homes and outside nursing homes that we supply in the surrounding areas . we are looking for fully motivated , experienced , and reliable rgn nurses who would like to go a little bit further in giving the elderly that bit more of a meaningful life . you will need to have good leadership skills and be adaptable to work in different environments . transport is a xxunk . in return we offer a competitive salary and free mandatory training , uniform , and holiday pay on xxunk hours . we as a company have awards in ' xxunk in people ' and ' work life balance ' . this post is subject to crb clearance ( payable by applicant ) , xxunk & reference checks . if you are already in employment and looking for more hours or you just want hours to suit your xxunk this may be the job for you .,xxbos medacs healthcare are looking to recruit an xxunk group pharmacy manager in bristol . post is hospital based and due to start in september 2012 either full time or part time the position is 3 months initially with a view to becoming permanent . salary is pro rata to apply send cv to xxunk xxunk,xxbos healthcare are currently recruiting for a variety of agency healthcare positions in the deeside area . nurses should have years post registration experience and healthcare assistants / support workers have 6 months experience . we are looking for candidates who display a passion for care , are flexible and motivated . in return we offer free training , excellent rates of pay and travel expense . please apply via www.h1healthcare.com / register.html,xxbos care worker job xxunk we are a leading provider of social care services . for over 16 years we have provided domiciliary care , support , encouragement , help and guidance for a wide range of people to maintain their independence and enhance their lives . we need people , like you , who like a challenge and have a real passion and commitment for helping others . whether you will be new to care or already have a wealth of experience we would like to hear from you . care worker job duties will include providing personal care & domestic support to people within their own homes in line with designed care packages . we require people to join us in providing care and support to a wide range of people in xxunk & xxunk for the following areas : xxunk , xxunk , xxunk xxunk , xxunk , xxunk and xxunk it is advantageous if you have your own transport and you need to state this on your cv . we provide a comprehensive training program with a wealth of learning opportunities that will equip you with the skills and confidence to be the best you can . benefits include : free uniforms and protective equipment mileage allowance covering your complete journey 5.6 weeks per annum ( pro rata of the hours you work ) of paid leave including bank holidays access to invest in a stakeholder pension scheme recommend a friend scheme pay role monthly prize draw access to the employee ’s saving club full and parttime hours available , including evenings and weekends . successful applicants will be required to provide an enhanced crb . expense will be met by applicant and employer . q care limited are an equal opportunities employer applicaitons are welcome from all sectors of the community as we aim to recruit a diverse workforce that reflects the people we serve,xxbos prison pharmacist london term : 2 months initially tla are currently recruiting for london based xxunk with prior experience and security clearance to work within the prison service . working hours will fulltime ( xxunk per week ) xxunk general pharmaceutical council registration is essential for this requirement . successful candidates will require experience in the following areas : xxunk prison pharmacy experience xxunk registration nationwide / local security clearance tla is an equal opportunities employer . please apply now to speak to one of our experienced consultants in more detail about this opportunity . tla group specialise in xxunk opportunities for our candidates through access to temporary , contract and permanent opportunities with clients throughout the uk and in locations overseas . the recruitment teams have many years healthcare and medical recruitment experience which means that they fully understand your needs . for a first class experience , from an agency that takes care of its candidates , whether you are qualified in the medical , xxunk health to\n",
      "y: FloatList\n",
      "0.15319403,0.29850745,0.06865671,0.014059702,0.32656717\n",
      "Path: models_text_tab;\n",
      "\n",
      "Test: None\n"
     ]
    }
   ],
   "source": [
    "# instantiate the learner object\n",
    "print(tab_db)\n",
    "print(text_db)\n",
    "learner = get_concat_learner(data,tab_db,text_db)"
   ]
  },
  {
   "cell_type": "code",
   "execution_count": null,
   "id": "5561b821",
   "metadata": {},
   "outputs": [],
   "source": []
  },
  {
   "cell_type": "code",
   "execution_count": 23,
   "id": "a03b9a4c",
   "metadata": {},
   "outputs": [
    {
     "data": {
      "text/plain": [
       "ConcatModel(\n",
       "  (mod_tab): TabularModel(\n",
       "    (embeds): ModuleList(\n",
       "      (0): Embedding(768, 66)\n",
       "      (1): Embedding(309, 40)\n",
       "      (2): Embedding(4, 3)\n",
       "      (3): Embedding(4, 3)\n",
       "      (4): Embedding(30, 11)\n",
       "      (5): Embedding(15, 7)\n",
       "    )\n",
       "    (emb_drop): Dropout(p=0.0, inplace=False)\n",
       "    (bn_cont): BatchNorm1d(0, eps=1e-05, momentum=0.1, affine=True, track_running_stats=True)\n",
       "    (layers): Sequential(\n",
       "      (0): Linear(in_features=130, out_features=100, bias=True)\n",
       "      (1): ReLU(inplace=True)\n",
       "    )\n",
       "  )\n",
       "  (mod_nlp): SequentialRNN(\n",
       "    (0): MultiBatchEncoder(\n",
       "      (module): AWD_LSTM(\n",
       "        (encoder): Embedding(3248, 400, padding_idx=1)\n",
       "        (encoder_dp): EmbeddingDropout(\n",
       "          (emb): Embedding(3248, 400, padding_idx=1)\n",
       "        )\n",
       "        (rnns): ModuleList(\n",
       "          (0): WeightDropout(\n",
       "            (module): LSTM(400, 1152, batch_first=True)\n",
       "          )\n",
       "          (1): WeightDropout(\n",
       "            (module): LSTM(1152, 1152, batch_first=True)\n",
       "          )\n",
       "          (2): WeightDropout(\n",
       "            (module): LSTM(1152, 400, batch_first=True)\n",
       "          )\n",
       "        )\n",
       "        (input_dp): RNNDropout()\n",
       "        (hidden_dps): ModuleList(\n",
       "          (0): RNNDropout()\n",
       "          (1): RNNDropout()\n",
       "          (2): RNNDropout()\n",
       "        )\n",
       "      )\n",
       "    )\n",
       "    (1): PoolingLinearClassifier(\n",
       "      (layers): Sequential(\n",
       "        (0): BatchNorm1d(1200, eps=1e-05, momentum=0.1, affine=True, track_running_stats=True)\n",
       "        (1): Dropout(p=0.4, inplace=False)\n",
       "        (2): Linear(in_features=1200, out_features=600, bias=True)\n",
       "        (3): ReLU(inplace=True)\n",
       "      )\n",
       "    )\n",
       "  )\n",
       "  (layers): Sequential(\n",
       "    (0): BatchNorm1d(700, eps=1e-05, momentum=0.1, affine=True, track_running_stats=True)\n",
       "    (1): Dropout(p=0.3, inplace=False)\n",
       "    (2): Linear(in_features=700, out_features=200, bias=True)\n",
       "    (3): Sigmoid()\n",
       "    (4): BatchNorm1d(200, eps=1e-05, momentum=0.1, affine=True, track_running_stats=True)\n",
       "    (5): Dropout(p=0.2, inplace=False)\n",
       "    (6): Linear(in_features=200, out_features=1, bias=True)\n",
       "  )\n",
       ")"
      ]
     },
     "execution_count": 23,
     "metadata": {},
     "output_type": "execute_result"
    }
   ],
   "source": [
    "learner.model"
   ]
  },
  {
   "cell_type": "code",
   "execution_count": 24,
   "id": "2bd4ee72",
   "metadata": {},
   "outputs": [
    {
     "data": {
      "text/html": [
       "\n",
       "    <div>\n",
       "        <style>\n",
       "            /* Turns off some styling */\n",
       "            progress {\n",
       "                /* gets rid of default border in Firefox and Opera. */\n",
       "                border: none;\n",
       "                /* Needs to be in here for Safari polyfill so background images work as expected. */\n",
       "                background-size: auto;\n",
       "            }\n",
       "            .progress-bar-interrupted, .progress-bar-interrupted::-webkit-progress-bar {\n",
       "                background: #F44336;\n",
       "            }\n",
       "        </style>\n",
       "      <progress value='0' class='' max='1' style='width:300px; height:20px; vertical-align: middle;'></progress>\n",
       "      0.00% [0/1 00:00<00:00]\n",
       "    </div>\n",
       "    \n",
       "<table border=\"1\" class=\"dataframe\">\n",
       "  <thead>\n",
       "    <tr style=\"text-align: left;\">\n",
       "      <th>epoch</th>\n",
       "      <th>train_loss</th>\n",
       "      <th>valid_loss</th>\n",
       "      <th>mean_absolute_error</th>\n",
       "      <th>time</th>\n",
       "    </tr>\n",
       "  </thead>\n",
       "  <tbody>\n",
       "  </tbody>\n",
       "</table><p>\n",
       "\n",
       "    <div>\n",
       "        <style>\n",
       "            /* Turns off some styling */\n",
       "            progress {\n",
       "                /* gets rid of default border in Firefox and Opera. */\n",
       "                border: none;\n",
       "                /* Needs to be in here for Safari polyfill so background images work as expected. */\n",
       "                background-size: auto;\n",
       "            }\n",
       "            .progress-bar-interrupted, .progress-bar-interrupted::-webkit-progress-bar {\n",
       "                background: #F44336;\n",
       "            }\n",
       "        </style>\n",
       "      <progress value='4' class='' max='200' style='width:300px; height:20px; vertical-align: middle;'></progress>\n",
       "      2.00% [4/200 00:15<12:39 0.2221]\n",
       "    </div>\n",
       "    "
      ],
      "text/plain": [
       "<IPython.core.display.HTML object>"
      ]
     },
     "metadata": {},
     "output_type": "display_data"
    },
    {
     "name": "stdout",
     "output_type": "stream",
     "text": [
      "LR Finder is complete, type {learner_name}.recorder.plot() to see the graph.\n"
     ]
    },
    {
     "data": {
      "image/png": "[encoded data removed]",
      "text/plain": [
       "<Figure size 432x288 with 1 Axes>"
      ]
     },
     "metadata": {
      "needs_background": "light"
     },
     "output_type": "display_data"
    }
   ],
   "source": [
    "# use the learning rate finder \n",
    "learner.lr_find()\n",
    "learner.recorder.plot(skip_end=1)"
   ]
  },
  {
   "cell_type": "code",
   "execution_count": 25,
   "id": "6c9fd133",
   "metadata": {},
   "outputs": [
    {
     "data": {
      "text/html": [
       "<table border=\"1\" class=\"dataframe\">\n",
       "  <thead>\n",
       "    <tr style=\"text-align: left;\">\n",
       "      <th>epoch</th>\n",
       "      <th>train_loss</th>\n",
       "      <th>valid_loss</th>\n",
       "      <th>mean_absolute_error</th>\n",
       "      <th>time</th>\n",
       "    </tr>\n",
       "  </thead>\n",
       "  <tbody>\n",
       "    <tr>\n",
       "      <td>0</td>\n",
       "      <td>0.119430</td>\n",
       "      <td>0.047429</td>\n",
       "      <td>0.162202</td>\n",
       "      <td>07:27</td>\n",
       "    </tr>\n",
       "    <tr>\n",
       "      <td>1</td>\n",
       "      <td>0.078846</td>\n",
       "      <td>0.047990</td>\n",
       "      <td>0.174736</td>\n",
       "      <td>07:14</td>\n",
       "    </tr>\n",
       "    <tr>\n",
       "      <td>2</td>\n",
       "      <td>0.028092</td>\n",
       "      <td>0.013502</td>\n",
       "      <td>0.083921</td>\n",
       "      <td>07:14</td>\n",
       "    </tr>\n",
       "    <tr>\n",
       "      <td>3</td>\n",
       "      <td>0.015846</td>\n",
       "      <td>0.010016</td>\n",
       "      <td>0.060335</td>\n",
       "      <td>07:13</td>\n",
       "    </tr>\n",
       "    <tr>\n",
       "      <td>4</td>\n",
       "      <td>0.009289</td>\n",
       "      <td>0.008998</td>\n",
       "      <td>0.059042</td>\n",
       "      <td>07:11</td>\n",
       "    </tr>\n",
       "  </tbody>\n",
       "</table>"
      ],
      "text/plain": [
       "<IPython.core.display.HTML object>"
      ]
     },
     "metadata": {},
     "output_type": "display_data"
    }
   ],
   "source": [
    "learner.fit_one_cycle(5, 1e-2, moms=(0.8,0.7)) "
   ]
  }
 ],
 "metadata": {
  "kernelspec": {
   "display_name": "Python 3 (ipykernel)",
   "language": "python",
   "name": "python3"
  },
  "language_info": {
   "codemirror_mode": {
    "name": "ipython",
    "version": 3
   },
   "file_extension": ".py",
   "mimetype": "text/x-python",
   "name": "python",
   "nbconvert_exporter": "python",
   "pygments_lexer": "ipython3",
   "version": "3.9.7"
  }
 },
 "nbformat": 4,
 "nbformat_minor": 5
}
