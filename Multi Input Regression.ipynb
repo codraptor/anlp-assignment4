{
 "cells": [
  {
   "cell_type": "code",
   "execution_count": 1,
   "id": "22a46a72",
   "metadata": {},
   "outputs": [],
   "source": [
    "# load dependencies\n",
    "from fastai.imports import *\n",
    "from fastai.text import *\n",
    "from fastai.tabular import *\n",
    "from fastai.text.data import *\n",
    "from torch.utils.data import Dataset, DataLoader\n",
    "import torch.nn as nn\n",
    "from sklearn.model_selection import train_test_split"
   ]
  },
  {
   "cell_type": "code",
   "execution_count": 2,
   "id": "a33f89b4",
   "metadata": {},
   "outputs": [],
   "source": [
    "# extend torch.utils.data.dataset.Dataset to provide us with x1 and x2\n",
    "# x1 will be used for the tabular submodule and x2 for the text submodule\n",
    "class ConcatDataset(Dataset):\n",
    "    def __init__(self, x1, x2, y): self.x1, self.x2, self.y = x1, x2, y\n",
    "    def __len__(self): return len(self.y)\n",
    "    def __getitem__(self, i): return (self.x1[i], self.x2[i]), self.y[i]\n",
    "\n",
    "    \n",
    "# define a custom collate function to be used to create a Concat DataBunch later\n",
    "def tabtext_collate(batch):\n",
    "    x, y = list(zip(*batch))\n",
    "    # x1 is (cat,cont), x2 is numericalized ids for text\n",
    "    x1, x2 = list(zip(*x))\n",
    "    x1 = to_data(x1)\n",
    "    x1 = list(zip(*x1))\n",
    "    x1 = torch.stack(x1[0]), torch.stack(x1[1])\n",
    "    x2, y = pad_collate(list(zip(x2, y)), pad_idx=1, pad_first=True)\n",
    "    return (x1, x2), y\n"
   ]
  },
  {
   "cell_type": "code",
   "execution_count": 3,
   "id": "03323eff",
   "metadata": {},
   "outputs": [],
   "source": [
    "# setup path variables to load data and save intermediate files\n",
    "DATA_PATH = Path('./input')\n",
    "MODEL_LM_PATH = Path('models_lm')\n",
    "MODEL_LM_PATH.mkdir(exist_ok=True)\n",
    "MODEL_TEXT_TAB_PATH = Path('models_text_tab')\n",
    "MODEL_TEXT_TAB_PATH.mkdir(exist_ok=True)"
   ]
  },
  {
   "cell_type": "code",
   "execution_count": 4,
   "id": "ad124a6e",
   "metadata": {},
   "outputs": [
    {
     "name": "stdout",
     "output_type": "stream",
     "text": [
      "80 datapoints in training set\n",
      "20 datapoints in validation set\n",
      "100 datapoints in full set\n"
     ]
    }
   ],
   "source": [
    "## load data\n",
    "df_train = pd.read_csv(DATA_PATH/'train.csv')\n",
    "df_train = df_train.head(100)\n",
    "\n",
    "df_train['Title'] = df_train['Title'].str.lower()\n",
    "df_train['FullDescription'] = df_train['FullDescription'].str.lower()\n",
    "df_train['LocationNormalized'] = df_train['LocationNormalized'].str.lower()\n",
    "df_train['ContractType'] = df_train['ContractType'].str.lower()\n",
    "df_train['Company'] = df_train['Company'].str.lower()\n",
    "df_train['ContractTime'] = df_train['ContractTime'].str.lower()\n",
    "df_train['Category'] = df_train['Category'].str.lower()\n",
    "\n",
    "f = lambda x: ' '.join([item for item in x.split() if \"**\" not in item])\n",
    "df_train[\"FullDescription\"] = df_train[\"FullDescription\"].apply(f)\n",
    "\n",
    "df_train, df_valid = train_test_split(df_train, test_size=0.2)\n",
    "\n",
    "print(f'{df_train.shape[0]} datapoints in training set')\n",
    "print(f'{df_valid.shape[0]} datapoints in validation set')\n",
    "\n",
    "# bring data in the right format to convert it to a fastai Databunch\n",
    "df_all = pd.concat([df_train, df_valid]).reset_index(drop=True)\n",
    "df_all.fillna('', inplace=True)\n",
    "\n",
    "\n",
    "print(f'{df_all.shape[0]} datapoints in full set')\n",
    "\n",
    "# save indexes of validation datapoints\n",
    "val_idxs = np.arange(df_train.shape[0], df_all.shape[0])\n",
    "\n",
    "df_all['LocationNormalized'] = df_all['LocationNormalized'].rank(method='dense', ascending=False).astype(int)\n",
    "df_all['Title'] = df_all['Title'].rank(method='dense', ascending=False).astype(int)\n",
    "df_all['ContractType'] = df_all['ContractType'].rank(method='dense', ascending=False).astype(int)\n",
    "df_all['Company'] = df_all['Company'].rank(method='dense', ascending=False).astype(int)\n",
    "df_all['ContractTime'] = df_all['ContractTime'].rank(method='dense', ascending=False).astype(int)\n",
    "df_all['Category'] = df_all['Category'].rank(method='dense', ascending=False).astype(int)\n"
   ]
  },
  {
   "cell_type": "code",
   "execution_count": 5,
   "id": "2b25f582",
   "metadata": {},
   "outputs": [
    {
     "data": {
      "text/html": [],
      "text/plain": [
       "<IPython.core.display.HTML object>"
      ]
     },
     "metadata": {},
     "output_type": "display_data"
    },
    {
     "name": "stderr",
     "output_type": "stream",
     "text": [
      "C:\\Users\\rishu\\anaconda3\\lib\\site-packages\\fastai\\core.py:302: VisibleDeprecationWarning: Creating an ndarray from ragged nested sequences (which is a list-or-tuple of lists-or-tuples-or ndarrays with different lengths or shapes) is deprecated. If you meant to do this, you must specify 'dtype=object' when creating the ndarray.\n",
      "  return np.array(a, dtype=dtype, **kwargs)\n"
     ]
    },
    {
     "data": {
      "text/html": [],
      "text/plain": [
       "<IPython.core.display.HTML object>"
      ]
     },
     "metadata": {},
     "output_type": "display_data"
    }
   ],
   "source": [
    "# set batch size\n",
    "bs = 32\n",
    "\n",
    "# create Databunch (https://docs.fast.ai/text.data.html)\n",
    "data_lm = (TextList.from_df(df_all, cols=['FullDescription'])\n",
    "                           .split_by_idx(val_idxs)\n",
    "                           .label_for_lm()  \n",
    "                           .databunch(path=MODEL_LM_PATH, bs=bs))"
   ]
  },
  {
   "cell_type": "code",
   "execution_count": 6,
   "id": "b75093a5",
   "metadata": {},
   "outputs": [
    {
     "data": {
      "text/html": [
       "<table border=\"1\" class=\"dataframe\">\n",
       "  <thead>\n",
       "    <tr style=\"text-align: right;\">\n",
       "      <th>idx</th>\n",
       "      <th>text</th>\n",
       "    </tr>\n",
       "  </thead>\n",
       "  <tbody>\n",
       "    <tr>\n",
       "      <td>0</td>\n",
       "      <td>from a plastics background . you will be xxunk an engineering organisation as an account manager with an innovative approach to plastics design and development . they supply high quality xxunk to a wide variety of industries including building and construction , xxunk , office design , xxunk , sports , medical and xxunk . xxunk of account manager s duties and responsibilities : xxunk opportunities for new business and</td>\n",
       "    </tr>\n",
       "    <tr>\n",
       "      <td>1</td>\n",
       "      <td>we have visited the client 's establishment and even spent work days with them and have a very enviable reputation for finding the best for the best . if you desire a professional , honest and calm approach with the reassurance that your application will be treated confidentially if requested , we look forward to working on your behalf . our consultants love their jobs and its always worth trying</td>\n",
       "    </tr>\n",
       "    <tr>\n",
       "      <td>2</td>\n",
       "      <td>within water and xxunk areas experience in other sectors such as nuclear or oil and gas would be an advantage detailed knowledge of general engineering design xxunk and xxunk management and production of bids assisting with xxunk and business development , including developing technical specific business xxunk senior mechanical engineer ( water ) location : bristol , avon , south west salary : to industry : engineering , water /</td>\n",
       "    </tr>\n",
       "    <tr>\n",
       "      <td>3</td>\n",
       "      <td>you are to busy during the day . remember if they do not contact you within hours , unfortunately you have not been successful in your application for this position . clear selection recruitment is part of the clear selection group est . xxbos software engineer c , c++ , java , uml , xamp , agile . defence / communications our client is a successful and expanding company developing</td>\n",
       "    </tr>\n",
       "    <tr>\n",
       "      <td>4</td>\n",
       "      <td>chartered engineer . able to demonstrate sound technical experience . a sufficient and appropriate level of building services and controls experience gained within a client organisation , engineering consultancy or equipment supplier . project management , including controls , planning and estimating and preparation of deliverable / work package . desirable working within a multidiscipline engineering team and having a general appreciation of other disciplines constraints and requirements . nuclear</td>\n",
       "    </tr>\n",
       "  </tbody>\n",
       "</table>"
      ],
      "text/plain": [
       "<IPython.core.display.HTML object>"
      ]
     },
     "metadata": {},
     "output_type": "display_data"
    }
   ],
   "source": [
    "data_lm.show_batch()"
   ]
  },
  {
   "cell_type": "code",
   "execution_count": 7,
   "id": "412fbb50",
   "metadata": {},
   "outputs": [],
   "source": [
    "data_lm.save('data_lm.pkl')"
   ]
  },
  {
   "cell_type": "code",
   "execution_count": 8,
   "id": "641d5d9a",
   "metadata": {},
   "outputs": [],
   "source": [
    "# create learner (https://docs.fast.ai/text.learner.html)\n",
    "learn = language_model_learner(data_lm, AWD_LSTM, drop_mult=0.5, path=MODEL_LM_PATH)"
   ]
  },
  {
   "cell_type": "code",
   "execution_count": 9,
   "id": "3a13e8d7",
   "metadata": {},
   "outputs": [
    {
     "data": {
      "text/html": [
       "\n",
       "    <div>\n",
       "        <style>\n",
       "            /* Turns off some styling */\n",
       "            progress {\n",
       "                /* gets rid of default border in Firefox and Opera. */\n",
       "                border: none;\n",
       "                /* Needs to be in here for Safari polyfill so background images work as expected. */\n",
       "                background-size: auto;\n",
       "            }\n",
       "            .progress-bar-interrupted, .progress-bar-interrupted::-webkit-progress-bar {\n",
       "                background: #F44336;\n",
       "            }\n",
       "        </style>\n",
       "      <progress value='9' class='' max='10' style='width:300px; height:20px; vertical-align: middle;'></progress>\n",
       "      90.00% [9/10 03:56<00:26]\n",
       "    </div>\n",
       "    \n",
       "<table border=\"1\" class=\"dataframe\">\n",
       "  <thead>\n",
       "    <tr style=\"text-align: left;\">\n",
       "      <th>epoch</th>\n",
       "      <th>train_loss</th>\n",
       "      <th>valid_loss</th>\n",
       "      <th>accuracy</th>\n",
       "      <th>time</th>\n",
       "    </tr>\n",
       "  </thead>\n",
       "  <tbody>\n",
       "    <tr>\n",
       "      <td>0</td>\n",
       "      <td>5.094673</td>\n",
       "      <td>#na#</td>\n",
       "      <td>00:25</td>\n",
       "    </tr>\n",
       "    <tr>\n",
       "      <td>1</td>\n",
       "      <td>5.087426</td>\n",
       "      <td>#na#</td>\n",
       "      <td>00:25</td>\n",
       "    </tr>\n",
       "    <tr>\n",
       "      <td>2</td>\n",
       "      <td>5.095330</td>\n",
       "      <td>#na#</td>\n",
       "      <td>00:25</td>\n",
       "    </tr>\n",
       "    <tr>\n",
       "      <td>3</td>\n",
       "      <td>5.095721</td>\n",
       "      <td>#na#</td>\n",
       "      <td>00:25</td>\n",
       "    </tr>\n",
       "    <tr>\n",
       "      <td>4</td>\n",
       "      <td>5.063822</td>\n",
       "      <td>#na#</td>\n",
       "      <td>00:26</td>\n",
       "    </tr>\n",
       "    <tr>\n",
       "      <td>5</td>\n",
       "      <td>4.902406</td>\n",
       "      <td>#na#</td>\n",
       "      <td>00:27</td>\n",
       "    </tr>\n",
       "    <tr>\n",
       "      <td>6</td>\n",
       "      <td>4.525350</td>\n",
       "      <td>#na#</td>\n",
       "      <td>00:27</td>\n",
       "    </tr>\n",
       "    <tr>\n",
       "      <td>7</td>\n",
       "      <td>4.284105</td>\n",
       "      <td>#na#</td>\n",
       "      <td>00:26</td>\n",
       "    </tr>\n",
       "    <tr>\n",
       "      <td>8</td>\n",
       "      <td>7.937245</td>\n",
       "      <td>#na#</td>\n",
       "      <td>00:26</td>\n",
       "    </tr>\n",
       "  </tbody>\n",
       "</table><p>\n",
       "\n",
       "    <div>\n",
       "        <style>\n",
       "            /* Turns off some styling */\n",
       "            progress {\n",
       "                /* gets rid of default border in Firefox and Opera. */\n",
       "                border: none;\n",
       "                /* Needs to be in here for Safari polyfill so background images work as expected. */\n",
       "                background-size: auto;\n",
       "            }\n",
       "            .progress-bar-interrupted, .progress-bar-interrupted::-webkit-progress-bar {\n",
       "                background: #F44336;\n",
       "            }\n",
       "        </style>\n",
       "      <progress value='0' class='' max='11' style='width:300px; height:20px; vertical-align: middle;'></progress>\n",
       "      0.00% [0/11 00:00<00:00]\n",
       "    </div>\n",
       "    "
      ],
      "text/plain": [
       "<IPython.core.display.HTML object>"
      ]
     },
     "metadata": {},
     "output_type": "display_data"
    },
    {
     "name": "stdout",
     "output_type": "stream",
     "text": [
      "LR Finder is complete, type {learner_name}.recorder.plot() to see the graph.\n"
     ]
    },
    {
     "data": {
      "image/png": "[encoded data removed]",
      "text/plain": [
       "<Figure size 432x288 with 1 Axes>"
      ]
     },
     "metadata": {
      "needs_background": "light"
     },
     "output_type": "display_data"
    }
   ],
   "source": [
    "# use the learning rate finder \n",
    "learn.lr_find()\n",
    "learn.recorder.plot()"
   ]
  },
  {
   "cell_type": "code",
   "execution_count": 10,
   "id": "3656de6b",
   "metadata": {},
   "outputs": [
    {
     "data": {
      "text/html": [
       "<table border=\"1\" class=\"dataframe\">\n",
       "  <thead>\n",
       "    <tr style=\"text-align: left;\">\n",
       "      <th>epoch</th>\n",
       "      <th>train_loss</th>\n",
       "      <th>valid_loss</th>\n",
       "      <th>accuracy</th>\n",
       "      <th>time</th>\n",
       "    </tr>\n",
       "  </thead>\n",
       "  <tbody>\n",
       "    <tr>\n",
       "      <td>0</td>\n",
       "      <td>4.679519</td>\n",
       "      <td>4.004797</td>\n",
       "      <td>0.256845</td>\n",
       "      <td>00:29</td>\n",
       "    </tr>\n",
       "  </tbody>\n",
       "</table>"
      ],
      "text/plain": [
       "<IPython.core.display.HTML object>"
      ]
     },
     "metadata": {},
     "output_type": "display_data"
    }
   ],
   "source": [
    "learn.fit_one_cycle(1, 1e-2, moms=(0.8,0.7)) "
   ]
  },
  {
   "cell_type": "code",
   "execution_count": 11,
   "id": "1e6f61ea",
   "metadata": {},
   "outputs": [],
   "source": [
    "# To complete the fine-tuning, we can then unfeeze and launch a new training.\n",
    "learn.unfreeze()"
   ]
  },
  {
   "cell_type": "code",
   "execution_count": 12,
   "id": "b397d4ea",
   "metadata": {},
   "outputs": [
    {
     "data": {
      "text/html": [
       "\n",
       "    <div>\n",
       "        <style>\n",
       "            /* Turns off some styling */\n",
       "            progress {\n",
       "                /* gets rid of default border in Firefox and Opera. */\n",
       "                border: none;\n",
       "                /* Needs to be in here for Safari polyfill so background images work as expected. */\n",
       "                background-size: auto;\n",
       "            }\n",
       "            .progress-bar-interrupted, .progress-bar-interrupted::-webkit-progress-bar {\n",
       "                background: #F44336;\n",
       "            }\n",
       "        </style>\n",
       "      <progress value='9' class='' max='10' style='width:300px; height:20px; vertical-align: middle;'></progress>\n",
       "      90.00% [9/10 08:26<00:56]\n",
       "    </div>\n",
       "    \n",
       "<table border=\"1\" class=\"dataframe\">\n",
       "  <thead>\n",
       "    <tr style=\"text-align: left;\">\n",
       "      <th>epoch</th>\n",
       "      <th>train_loss</th>\n",
       "      <th>valid_loss</th>\n",
       "      <th>accuracy</th>\n",
       "      <th>time</th>\n",
       "    </tr>\n",
       "  </thead>\n",
       "  <tbody>\n",
       "    <tr>\n",
       "      <td>0</td>\n",
       "      <td>4.207159</td>\n",
       "      <td>#na#</td>\n",
       "      <td>00:54</td>\n",
       "    </tr>\n",
       "    <tr>\n",
       "      <td>1</td>\n",
       "      <td>4.198356</td>\n",
       "      <td>#na#</td>\n",
       "      <td>00:55</td>\n",
       "    </tr>\n",
       "    <tr>\n",
       "      <td>2</td>\n",
       "      <td>4.188702</td>\n",
       "      <td>#na#</td>\n",
       "      <td>00:55</td>\n",
       "    </tr>\n",
       "    <tr>\n",
       "      <td>3</td>\n",
       "      <td>4.138961</td>\n",
       "      <td>#na#</td>\n",
       "      <td>00:55</td>\n",
       "    </tr>\n",
       "    <tr>\n",
       "      <td>4</td>\n",
       "      <td>3.975073</td>\n",
       "      <td>#na#</td>\n",
       "      <td>00:55</td>\n",
       "    </tr>\n",
       "    <tr>\n",
       "      <td>5</td>\n",
       "      <td>3.652890</td>\n",
       "      <td>#na#</td>\n",
       "      <td>00:53</td>\n",
       "    </tr>\n",
       "    <tr>\n",
       "      <td>6</td>\n",
       "      <td>3.727939</td>\n",
       "      <td>#na#</td>\n",
       "      <td>00:53</td>\n",
       "    </tr>\n",
       "    <tr>\n",
       "      <td>7</td>\n",
       "      <td>4.572641</td>\n",
       "      <td>#na#</td>\n",
       "      <td>00:59</td>\n",
       "    </tr>\n",
       "    <tr>\n",
       "      <td>8</td>\n",
       "      <td>10.945212</td>\n",
       "      <td>#na#</td>\n",
       "      <td>01:02</td>\n",
       "    </tr>\n",
       "  </tbody>\n",
       "</table><p>\n",
       "\n",
       "    <div>\n",
       "        <style>\n",
       "            /* Turns off some styling */\n",
       "            progress {\n",
       "                /* gets rid of default border in Firefox and Opera. */\n",
       "                border: none;\n",
       "                /* Needs to be in here for Safari polyfill so background images work as expected. */\n",
       "                background-size: auto;\n",
       "            }\n",
       "            .progress-bar-interrupted, .progress-bar-interrupted::-webkit-progress-bar {\n",
       "                background: #F44336;\n",
       "            }\n",
       "        </style>\n",
       "      <progress value='0' class='' max='11' style='width:300px; height:20px; vertical-align: middle;'></progress>\n",
       "      0.00% [0/11 00:00<00:00]\n",
       "    </div>\n",
       "    "
      ],
      "text/plain": [
       "<IPython.core.display.HTML object>"
      ]
     },
     "metadata": {},
     "output_type": "display_data"
    },
    {
     "name": "stdout",
     "output_type": "stream",
     "text": [
      "LR Finder is complete, type {learner_name}.recorder.plot() to see the graph.\n"
     ]
    },
    {
     "data": {
      "image/png": "[encoded data removed]",
      "text/plain": [
       "<Figure size 432x288 with 1 Axes>"
      ]
     },
     "metadata": {
      "needs_background": "light"
     },
     "output_type": "display_data"
    }
   ],
   "source": [
    "# use the learning rate finder again\n",
    "learn.lr_find()\n",
    "learn.recorder.plot()"
   ]
  },
  {
   "cell_type": "code",
   "execution_count": 13,
   "id": "d56683ac",
   "metadata": {},
   "outputs": [
    {
     "data": {
      "text/html": [
       "<table border=\"1\" class=\"dataframe\">\n",
       "  <thead>\n",
       "    <tr style=\"text-align: left;\">\n",
       "      <th>epoch</th>\n",
       "      <th>train_loss</th>\n",
       "      <th>valid_loss</th>\n",
       "      <th>accuracy</th>\n",
       "      <th>time</th>\n",
       "    </tr>\n",
       "  </thead>\n",
       "  <tbody>\n",
       "    <tr>\n",
       "      <td>0</td>\n",
       "      <td>3.906443</td>\n",
       "      <td>3.521758</td>\n",
       "      <td>0.330208</td>\n",
       "      <td>00:56</td>\n",
       "    </tr>\n",
       "  </tbody>\n",
       "</table>"
      ],
      "text/plain": [
       "<IPython.core.display.HTML object>"
      ]
     },
     "metadata": {},
     "output_type": "display_data"
    }
   ],
   "source": [
    "learn.fit_one_cycle(1, 1e-3, moms=(0.8,0.7)) "
   ]
  },
  {
   "cell_type": "code",
   "execution_count": 14,
   "id": "ffc40fd8",
   "metadata": {},
   "outputs": [],
   "source": [
    "learn.save_encoder('fine_tuned_enc')"
   ]
  },
  {
   "cell_type": "code",
   "execution_count": 15,
   "id": "a918f682",
   "metadata": {},
   "outputs": [],
   "source": [
    "cat_names = ['Title','LocationNormalized','ContractType','ContractTime','Company','Category'] # categorical\n",
    "cont_names = [] # continous variables (in our case we don't have any) \n",
    "dep_var = 'SalaryNormalized' # label\n",
    "procs = [FillMissing, Categorify, Normalize] # preprocessing steps\n",
    "txt_cols=['FullDescription'] # text\n",
    "bs = 8 # batch size\n",
    "\n",
    "# import numpy as np\n",
    "\n",
    "# np.random.seed(42)"
   ]
  },
  {
   "cell_type": "code",
   "execution_count": 16,
   "id": "e16a7ab8",
   "metadata": {},
   "outputs": [],
   "source": [
    "# get tabular Databunch from the fast.ai Tabular module (docs: https://docs.fast.ai/tabular.data.html)\n",
    "def get_tab_databunch(df,bs=bs,val_idxs=val_idxs, path = MODEL_TEXT_TAB_PATH):\n",
    "        \n",
    "    return (TabularList.from_df(df, cat_names, cont_names, procs=procs, path=path)\n",
    "                            .split_by_idx(val_idxs)\n",
    "                            .label_from_df(cols=dep_var)\n",
    "                            .databunch(bs=bs))\n",
    "\n",
    "# get Text Databunch from the fast.ai Text module (docs: https://docs.fast.ai/text.data.html)\n",
    "def get_text_databunch(df,bs=bs,val_idxs=val_idxs, path = MODEL_TEXT_TAB_PATH):\n",
    "    # load fine-tuned vocab\n",
    "    data_lm =load_data(MODEL_LM_PATH, 'data_lm.pkl', bs=bs)\n",
    "    return (TextList.from_df(df, cols = txt_cols[0], vocab=data_lm.vocab, path=path)\n",
    "                            .split_by_idx(val_idxs)\n",
    "                            .label_from_df(cols=dep_var)\n",
    "                            .databunch(bs=bs))"
   ]
  },
  {
   "cell_type": "code",
   "execution_count": 17,
   "id": "0d583ee0",
   "metadata": {},
   "outputs": [],
   "source": [
    "# get fast.ai tabular learner (docs: https://docs.fast.ai/tabular.models.html)\n",
    "def get_tabular_learner(data, params):\n",
    "    return tabular_learner(data,metrics=accuracy,**params)\n",
    "\n",
    "# get fast.ai text learner and load the fine-tuned weights (docs: https://docs.fast.ai/text.learner.html)\n",
    "def get_text_learner(data, params):\n",
    "    learn = text_classifier_learner(data,AWD_LSTM,metrics=accuracy,**params)\n",
    "    learn.path=MODEL_LM_PATH\n",
    "    learn.load_encoder('fine_tuned_enc')\n",
    "    learn.path=MODEL_TEXT_TAB_PATH\n",
    "    return learn"
   ]
  },
  {
   "cell_type": "code",
   "execution_count": 18,
   "id": "abe91d9c",
   "metadata": {},
   "outputs": [],
   "source": [
    "def get_data(bs=bs,path=MODEL_TEXT_TAB_PATH):\n",
    "    \n",
    "    tb_data = df_all[cat_names + cont_names + [dep_var]]\n",
    "    \n",
    "    print(tb_data) \n",
    "    \n",
    "    \n",
    "    # get databunches using fast.ai's implementation\n",
    "    tab_db = get_tab_databunch(df_all[cat_names + cont_names+ [dep_var]])\n",
    "    text_db = get_text_databunch(df_all[txt_cols +[dep_var]])\n",
    "    \n",
    "    # extend the databunches to work with our Concat Model\n",
    "    train_ds = ConcatDataset(tab_db.train_ds.x, text_db.train_ds.x, tab_db.train_ds.y)\n",
    "    valid_ds = ConcatDataset(tab_db.valid_ds.x, text_db.valid_ds.x, tab_db.valid_ds.y)\n",
    "    \n",
    "    # add sample startegies for both training and validation set\n",
    "    train_sampler = SortishSampler(text_db.train_ds.x, key=lambda t: len(text_db.train_ds[t][0].data), bs=bs//2)\n",
    "    valid_sampler = SortSampler(text_db.valid_ds.x, key=lambda t: len(text_db.valid_ds[t][0].data))\n",
    "    \n",
    "    # create DataLoaders\n",
    "    train_dl = DataLoader(train_ds, bs//2, sampler=train_sampler)\n",
    "    valid_dl = DataLoader(valid_ds, bs, sampler=valid_sampler)\n",
    "    \n",
    "    # create databunch to work with out Concat Model\n",
    "    data = DataBunch(train_dl, valid_dl, device=defaults.device, collate_fn=tabtext_collate, path=path)\n",
    "\n",
    "    return data,tab_db,text_db"
   ]
  },
  {
   "cell_type": "code",
   "execution_count": 19,
   "id": "6072ad20",
   "metadata": {},
   "outputs": [
    {
     "name": "stdout",
     "output_type": "stream",
     "text": [
      "    Title  LocationNormalized  ContractType  ContractTime  Company  Category  \\\n",
      "0      59                  38             2             1        3         2   \n",
      "1      44                   4             2             3       11         7   \n",
      "2      71                   4             2             3       11         7   \n",
      "3      85                  36             2             1        7         5   \n",
      "4      81                   4             2             3       13         7   \n",
      "..    ...                 ...           ...           ...      ...       ...   \n",
      "95     66                   4             2             1       14         1   \n",
      "96     87                  26             2             1       15        10   \n",
      "97     46                  39             2             3       12         7   \n",
      "98      2                   4             2             1        7         5   \n",
      "99     50                   4             2             1        9         9   \n",
      "\n",
      "    SalaryNormalized  \n",
      "0              42500  \n",
      "1              19000  \n",
      "2              19000  \n",
      "3              32500  \n",
      "4              20500  \n",
      "..               ...  \n",
      "95             24000  \n",
      "96             16000  \n",
      "97             30000  \n",
      "98             35000  \n",
      "99             39500  \n",
      "\n",
      "[100 rows x 7 columns]\n"
     ]
    },
    {
     "name": "stderr",
     "output_type": "stream",
     "text": [
      "C:\\Users\\rishu\\anaconda3\\lib\\site-packages\\fastai\\data_block.py:541: UserWarning: You are labelling your items with CategoryList.\n",
      "Your valid set contained the following unknown labels, the corresponding items have been discarded.\n",
      "20000, 17280, 37500, 23000\n",
      "  if getattr(ds, 'warn', False): warn(ds.warn)\n"
     ]
    },
    {
     "data": {
      "text/html": [],
      "text/plain": [
       "<IPython.core.display.HTML object>"
      ]
     },
     "metadata": {},
     "output_type": "display_data"
    },
    {
     "name": "stderr",
     "output_type": "stream",
     "text": [
      "C:\\Users\\rishu\\anaconda3\\lib\\site-packages\\fastai\\core.py:302: VisibleDeprecationWarning: Creating an ndarray from ragged nested sequences (which is a list-or-tuple of lists-or-tuples-or ndarrays with different lengths or shapes) is deprecated. If you meant to do this, you must specify 'dtype=object' when creating the ndarray.\n",
      "  return np.array(a, dtype=dtype, **kwargs)\n"
     ]
    },
    {
     "data": {
      "text/html": [],
      "text/plain": [
       "<IPython.core.display.HTML object>"
      ]
     },
     "metadata": {},
     "output_type": "display_data"
    }
   ],
   "source": [
    "# instantiate all necessary DataBunches\n",
    "data,tab_db,text_db = get_data(bs=bs)"
   ]
  },
  {
   "cell_type": "code",
   "execution_count": 40,
   "id": "0c2eb8d7",
   "metadata": {},
   "outputs": [],
   "source": [
    "# custom module to concatentate the outputs of the tabular and text submodules and add the Multilayer Perceptron on top\n",
    "class ConcatModel(nn.Module):\n",
    "    def __init__(self, mod_tab, mod_nlp, layers, drops):\n",
    "        super().__init__()\n",
    "        self.mod_tab = mod_tab\n",
    "        self.mod_nlp = mod_nlp\n",
    "        lst_layers = []\n",
    "        activs = [nn.ReLU(), ] * (len(layers)-2) + [None]\n",
    "        for n_in, n_out, p, actn in zip(layers[:-1], layers[1:], drops, activs):\n",
    "            lst_layers += bn_drop_lin(n_in, n_out, p=p, actn=actn)\n",
    "        self.layers = nn.Sequential(*lst_layers)\n",
    "\n",
    "    def forward(self, *x):\n",
    "        x_tab = self.mod_tab(*x[0])\n",
    "        x_nlp = self.mod_nlp(x[1])[0]\n",
    "        x = torch.cat([x_tab, x_nlp], dim=1)\n",
    "        return self.layers(x)"
   ]
  },
  {
   "cell_type": "code",
   "execution_count": 50,
   "id": "3b5fc103",
   "metadata": {},
   "outputs": [],
   "source": [
    "def get_concat_learner(data, tab_db, text_db):\n",
    "    \n",
    "    # output size of the last layer of the tabular module\n",
    "    tab_out_size = 100\n",
    "    # output size of the last layer of the text module (ULMFiT)\n",
    "    text_out_size = 300\n",
    "    \n",
    "    params = {\n",
    "        'layers': [tab_out_size], # output size of the last layer of the tabular module\n",
    "        'ps': [0.], # dropout before the last layer of the tabular module\n",
    "        'emb_drop': 0., # embedding dropout for categorical features\n",
    "        'use_bn': True, # use batchnorm\n",
    "    }\n",
    "    \n",
    "    # instantiate the tabular learner\n",
    "    tab_learner = get_tabular_learner(tab_db, params)\n",
    "    # cut off layers so we can put the Concat head on top\n",
    "    tab_learner.model.layers = tab_learner.model.layers[:-2]\n",
    "\n",
    "    params = {\n",
    "        'lin_ftrs': [text_out_size],  # output size of the last layer of the text module (ULMFiT)\n",
    "        'bptt': 80, # backpropagation through time (sequence length)\n",
    "        'max_len': 20*80, # last max_len activations to be considered (see https://docs.fast.ai/text.learner.html)\n",
    "        'drop_mult': 1. # dropout rate\n",
    "    }\n",
    "    \n",
    "    # instantiate the text learner\n",
    "    text_learner = get_text_learner(text_db, params)\n",
    "    # cut off layers so we can put the Concat head on top\n",
    "    text_learner.model[-1].layers = text_learner.model[-1].layers[:-3]\n",
    "    \n",
    "    # size of fully connected layers in Concat Head\n",
    "    lin_layers = [tab_out_size + text_out_size, 200, 100]\n",
    "    # dropout rate for fully connected layers in Concat Head\n",
    "    ps = [0.3, 0.2, 0.1]\n",
    "    model = ConcatModel(tab_learner.model, text_learner.model, lin_layers, ps)\n",
    "    \n",
    "    # Use Mean Squared Error here if you want to use this for a regression task\n",
    "    loss_func = CrossEntropyFlat()\n",
    "   \n",
    "    learn = Learner(data, model, loss_func=loss_func, metrics=accuracy)\n",
    "    \n",
    "    return learn"
   ]
  },
  {
   "cell_type": "code",
   "execution_count": 51,
   "id": "e90d1556",
   "metadata": {},
   "outputs": [
    {
     "name": "stdout",
     "output_type": "stream",
     "text": [
      "TabularDataBunch;\n",
      "\n",
      "Train: LabelList (80 items)\n",
      "x: TabularList\n",
      "Title 59; LocationNormalized 38; ContractType 2; ContractTime 1; Company 3; Category 2; ,Title 44; LocationNormalized 4; ContractType 2; ContractTime 3; Company 11; Category 7; ,Title 71; LocationNormalized 4; ContractType 2; ContractTime 3; Company 11; Category 7; ,Title 85; LocationNormalized 36; ContractType 2; ContractTime 1; Company 7; Category 5; ,Title 81; LocationNormalized 4; ContractType 2; ContractTime 3; Company 13; Category 7; \n",
      "y: CategoryList\n",
      "42500,19000,19000,32500,20500\n",
      "Path: models_text_tab;\n",
      "\n",
      "Valid: LabelList (20 items)\n",
      "x: TabularList\n",
      "Title 2; LocationNormalized 4; ContractType 2; ContractTime 1; Company 7; Category 5; ,Title 2; LocationNormalized 4; ContractType 2; ContractTime 1; Company 7; Category 5; ,Title #na#; LocationNormalized 4; ContractType 2; ContractTime 1; Company 9; Category 9; ,Title #na#; LocationNormalized 4; ContractType 2; ContractTime 1; Company 9; Category 9; ,Title 2; LocationNormalized 4; ContractType 2; ContractTime 1; Company 7; Category 5; \n",
      "y: CategoryList\n",
      "35000,35000,39500,39500,35000\n",
      "Path: models_text_tab;\n",
      "\n",
      "Test: None\n",
      "TextClasDataBunch;\n",
      "\n",
      "Train: LabelList (80 items)\n",
      "x: TextList\n",
      "xxbos due to expansion there is now an opportunity for an external sales engineer / field sales engineer to work for a successful plastics manufacturing company in xxunk , west sussex . external sales engineer / account manager will be expected to make a xxunk contribution to the business . salary package for the field sales engineer will be in the xxunk of xxunk travel xxunk phone candidates must come from a plastics background . you will be xxunk an engineering organisation as an account manager with an innovative approach to plastics design and development . they supply high quality xxunk to a wide variety of industries including building and construction , xxunk , office design , xxunk , sports , medical and xxunk . xxunk of account manager s duties and responsibilities : xxunk opportunities for new business and xxunk xxunk xxunk and xxunk business xxunk across the uk , in particular across the south , west and some areas of the xxunk . xxunk with customers on their individual requirements using industry knowledge to expand and develop the business essential new account manager requirements : formal engineering qualification technical sales experience experience of xxunk complex components driving xxunk and use of your own car,xxbos pastry chef de partie rosette my client is looking for a pastry chef de partie to start straight xxunk in their rosette restaurant in a star hotel . working alongside another pastry chef it is not necessary to have rosette experience providing you have the natural xxunk and ability as well as xxunk to learn . job xxunk : pastry chef de partie out of xxunk days on xxunk days off hours a week xxunk , xxunk , xxunk cover restaurant xxunk xxunk at xxunk am benefits : up tips life insurance healthcare pension staff uniform meals on duty live in available the candidate : pastry qualified ( xxunk ) preferably pastry chef de partie experience ( or good demi ) eager to learn hard working xxunk xxunk or able to relocate xxunk so if you are a pastry chef de partie looking for a great position working alongside an amazing xxunk of colleagues then email or just call for a quick chat . consultant : chris wilson ref : pastry chef xxunk / want a quick job search without the hassle of registering then paste www.clearselection.co.uk / search.php to your web browser and enjoy the experience . we are always busy and are constantly receiving new instructions from a number of different client 's nationwide , which makes it good for candidates and us . in the majority of cases we have visited the client 's establishment and even spent work days with them and have a very enviable reputation for finding the best for the best . if you desire a professional , honest and calm approach with the reassurance that your application will be treated confidentially if requested , we look forward to working on your behalf . our consultants love their jobs and its always worth trying to contact them on their mobiles in the evenings or at weekends , if you are to busy during the day . remember if they do not contact you within hours , unfortunately you have not been successful in your application for this position . clear selection recruitment is part of the clear selection group est . this job was originally posted as,xxbos chef de parties required nationwide many with live in have you xxunk at the xxunk , are you now seeking a full time role to xxunk into ? clear selection are seeking qualified chef de parties for xxunk clients on a xxunk wide basis . we are interested in xxunk from chefs with xxunk 's level 1 our client xxunk xxunk from gastro pubs to rosette restaurant s and star hotels , xxunk leisure xxunk to conference venues , with positions in xxunk yorkshire to sussex , clear selection can help you . many clients offer live in accommodation so even more opportunities for those of you that are happy to relocate if you are xxunk , professional , xxunk with great knife skills please get in xxunk in order to be considered for any of our positions please send an updated cv salary up to ref : jemma collins recruitment manager leads the recruitment team for clear selection ensuring we are one of the finest in the business / want a quick job search without the hassle of registering then paste www.clearselection.co.uk / search.php to your web browser and enjoy the experience . we are always busy and are constantly receiving new instructions from a number of different client 's nationwide , which makes it good for candidates and us . in the majority of cases we have visited the client 's establishment and even spent work days with them and have a very enviable reputation for finding the best for the best . if you desire a professional , honest and calm approach with the reassurance that your application will be treated confidentially if requested , we look forward to working on your behalf . our consultants love their jobs and its always worth trying to contact them on their mobiles in the evenings or at weekends , if you are to busy during the day . remember if they do not contact you within hours , unfortunately you have not been successful in your application for this position . clear selection recruitment is part of the clear selection group est . this job was originally posted as,xxbos a great opportunity has arisen for skilled and xxunk software engineers to work for an established and fast growing technology company based in xxunk . this is a technical role which will also involve working on test equipment and xxunk for xxunk . ideally , you will have the following : skills in c , c++ and xxunk using xxunk xxunk a degree in an engineering discipline or equivalent experience in the following would be an advantage : o developing software for data capture and xxunk o user interface development o xxunk xxunk development o real time applications design experience if you are looking to work for a xxunk company and is looking for a xxunk challenge , send your cv now,xxbos a fine dining restaurant located in hertfordshire has a role available for a chef de partie to join the team role : a xxunk fine dining restaurant which has xxunk xxunk to its name is looking for a chef de partie to join the team of xxunk highly skilled chefs in the kitchen serving covers for xxunk service xxunk this role of chef de partie you will be working in the kitchen xxunk xxunk xxunk food to a consistently high standards xxunk on your techniques to ensure that xxunk is xxunk xxunk . requirements : all chef de parties applying for this role must have a multi aa rosette or xxunk background in a kitchen using the latest , modern cooking xxunk xxunk , passionate candidate who is xxunk to continue learning and xxunk in a quality environment will be ideal for this position . benefits include : uniform provided meals on duty straight shifts will help to relocate excellent opportunities to progress if you are interested in this position or would like information on the other positions we are recruiting for or any temporary assignments please send your cv by clicking on the ' apply now ' button below and our consultant xxunk xxunk will do his utmost to assist you in your search for employment . in line with the requirements of the asylum immigration act all applicants must be eligible to live and work in the uk . documented evidence of the eligibility will be required from candidates as part of the recruitment process . this job was originally posted as\n",
      "y: CategoryList\n",
      "42500,19000,19000,32500,20500\n",
      "Path: models_text_tab;\n",
      "\n",
      "Valid: LabelList (20 items)\n",
      "x: TextList\n",
      "xxbos a leading xxunk agency is looking to xxunk a web developer to join their team of xxunk xxunk . the role will involve working on different xxunk of client and a candidate should have the ability to create and xxunk xxunk , xxunk , and xxunk work to meet client requirements . requirements : xxunk years of experience in web development or more years on xxunk projects in an agency setting development skills in the following technologies : o xxunk and xxunk o xxunk and xxunk o xxunk xxunk / xxunk o xxunk / xxunk o xxunk , xxunk o xxunk knowledge of microsoft xxunk xxunk , any other xxunk solutions if this xxunk like a challenge that you are ready to take up , send in your cv now,xxbos a leading xxunk agency is looking to xxunk a web developer to join their team of xxunk xxunk . the role will involve working on different xxunk of client and a candidate should have the ability to create and xxunk xxunk , xxunk , and xxunk work to meet client requirements . requirements : xxunk years of experience in web development or more years on xxunk projects in an agency setting development skills in the following technologies : o xxunk and xxunk o xxunk and xxunk o xxunk xxunk / xxunk o xxunk / xxunk o xxunk , xxunk o xxunk knowledge of microsoft xxunk xxunk , any other xxunk solutions if this xxunk like a challenge that you are ready to take up , send in your cv now,xxbos lead engineers ( stress ) our client provide high end technical and project management services to the xxunk aerospace companies . our client are now seeking a aerospace senior stress engineers to join their growing aerospace structures teams in bristol this position of aerospace stress engineer is ideally suited to high calibre engineering xxunk with significant and appropriate post graduate experience . you will be expected to take full xxunk of technical tasks and to lead others in their xxunk . candidates will ideally be degree qualified ( xxunk or equivalent , and have experience of the technical leadership of projects to time , quality and cost xxunk . aerospace industry experience is an advantage however the calibre of the xxunk is more important therefore applicants with structural analysis experience from any xxunk are xxunk . a demonstrable track record in one or more of the following technical disciplines : fatigue and xxunk xxunk static stress analysis ( metallic or composite ) finite element analysis . candidates must also be able to demonstrate : technical xxunk in the field of aerospace structures effective client management and communication skills project team leadership commercial xxunk xxunk innovative xxunk you will need to xxunk a willingness to work outside xxunk office hours on xxunk and flexibility for working from the office , xxunk and clients xxunk . ideally you will also : be xxunk chartership through the xxunk or xxunk lead engineers ( stress ) location : bristol salary to,xxbos lead engineers ( stress ) our client provide high end technical and project management services to the xxunk aerospace companies . our client are now seeking a aerospace senior stress engineers to join their growing aerospace structures teams in bristol this position of aerospace stress engineer is ideally suited to high calibre engineering xxunk with significant and appropriate post graduate experience . you will be expected to take full xxunk of technical tasks and to lead others in their xxunk . candidates will ideally be degree qualified ( xxunk or equivalent , and have experience of the technical leadership of projects to time , quality and cost xxunk . aerospace industry experience is an advantage however the calibre of the xxunk is more important therefore applicants with structural analysis experience from any xxunk are xxunk . a demonstrable track record in one or more of the following technical disciplines : fatigue and xxunk xxunk static stress analysis ( metallic or composite ) finite element analysis . candidates must also be able to demonstrate : technical xxunk in the field of aerospace structures effective client management and communication skills project team leadership commercial xxunk xxunk innovative xxunk you will need to xxunk a willingness to work outside xxunk office hours on xxunk and flexibility for working from the office , xxunk and clients xxunk . ideally you will also : be xxunk chartership through the xxunk or xxunk lead engineers ( stress ) location : bristol salary to,xxbos a leading xxunk agency is looking to xxunk a web developer to join their team of xxunk xxunk . the role will involve working on different xxunk of client and a candidate should have the ability to create and xxunk xxunk , xxunk , and xxunk work to meet client requirements . requirements : xxunk years of experience in web development or more years on xxunk projects in an agency setting development skills in the following technologies : o xxunk and xxunk o xxunk and xxunk o xxunk xxunk / xxunk o xxunk / xxunk o xxunk , xxunk o xxunk knowledge of microsoft xxunk xxunk , any other xxunk solutions if this xxunk like a challenge that you are ready to take up , send in your cv now\n",
      "y: CategoryList\n",
      "35000,35000,39500,39500,35000\n",
      "Path: models_text_tab;\n",
      "\n",
      "Test: None\n"
     ]
    }
   ],
   "source": [
    "# instantiate the learner object\n",
    "print(tab_db)\n",
    "print(text_db)\n",
    "learner = get_concat_learner(data,tab_db,text_db)"
   ]
  },
  {
   "cell_type": "code",
   "execution_count": 52,
   "id": "a03b9a4c",
   "metadata": {},
   "outputs": [
    {
     "data": {
      "text/plain": [
       "ConcatModel(\n",
       "  (mod_tab): TabularModel(\n",
       "    (embeds): ModuleList(\n",
       "      (0): Embedding(78, 18)\n",
       "      (1): Embedding(36, 12)\n",
       "      (2): Embedding(3, 3)\n",
       "      (3): Embedding(4, 3)\n",
       "      (4): Embedding(18, 8)\n",
       "      (5): Embedding(11, 6)\n",
       "    )\n",
       "    (emb_drop): Dropout(p=0.0, inplace=False)\n",
       "    (bn_cont): BatchNorm1d(0, eps=1e-05, momentum=0.1, affine=True, track_running_stats=True)\n",
       "    (layers): Sequential(\n",
       "      (0): Linear(in_features=50, out_features=100, bias=True)\n",
       "      (1): ReLU(inplace=True)\n",
       "    )\n",
       "  )\n",
       "  (mod_nlp): SequentialRNN(\n",
       "    (0): MultiBatchEncoder(\n",
       "      (module): AWD_LSTM(\n",
       "        (encoder): Embedding(1152, 400, padding_idx=1)\n",
       "        (encoder_dp): EmbeddingDropout(\n",
       "          (emb): Embedding(1152, 400, padding_idx=1)\n",
       "        )\n",
       "        (rnns): ModuleList(\n",
       "          (0): WeightDropout(\n",
       "            (module): LSTM(400, 1152, batch_first=True)\n",
       "          )\n",
       "          (1): WeightDropout(\n",
       "            (module): LSTM(1152, 1152, batch_first=True)\n",
       "          )\n",
       "          (2): WeightDropout(\n",
       "            (module): LSTM(1152, 400, batch_first=True)\n",
       "          )\n",
       "        )\n",
       "        (input_dp): RNNDropout()\n",
       "        (hidden_dps): ModuleList(\n",
       "          (0): RNNDropout()\n",
       "          (1): RNNDropout()\n",
       "          (2): RNNDropout()\n",
       "        )\n",
       "      )\n",
       "    )\n",
       "    (1): PoolingLinearClassifier(\n",
       "      (layers): Sequential(\n",
       "        (0): BatchNorm1d(1200, eps=1e-05, momentum=0.1, affine=True, track_running_stats=True)\n",
       "        (1): Dropout(p=0.4, inplace=False)\n",
       "        (2): Linear(in_features=1200, out_features=300, bias=True)\n",
       "        (3): ReLU(inplace=True)\n",
       "      )\n",
       "    )\n",
       "  )\n",
       "  (layers): Sequential(\n",
       "    (0): BatchNorm1d(400, eps=1e-05, momentum=0.1, affine=True, track_running_stats=True)\n",
       "    (1): Dropout(p=0.3, inplace=False)\n",
       "    (2): Linear(in_features=400, out_features=200, bias=True)\n",
       "    (3): ReLU()\n",
       "    (4): BatchNorm1d(200, eps=1e-05, momentum=0.1, affine=True, track_running_stats=True)\n",
       "    (5): Dropout(p=0.2, inplace=False)\n",
       "    (6): Linear(in_features=200, out_features=100, bias=True)\n",
       "  )\n",
       ")"
      ]
     },
     "execution_count": 52,
     "metadata": {},
     "output_type": "execute_result"
    }
   ],
   "source": [
    "learner.model"
   ]
  },
  {
   "cell_type": "code",
   "execution_count": 53,
   "id": "2bd4ee72",
   "metadata": {},
   "outputs": [
    {
     "data": {
      "text/html": [
       "\n",
       "    <div>\n",
       "        <style>\n",
       "            /* Turns off some styling */\n",
       "            progress {\n",
       "                /* gets rid of default border in Firefox and Opera. */\n",
       "                border: none;\n",
       "                /* Needs to be in here for Safari polyfill so background images work as expected. */\n",
       "                background-size: auto;\n",
       "            }\n",
       "            .progress-bar-interrupted, .progress-bar-interrupted::-webkit-progress-bar {\n",
       "                background: #F44336;\n",
       "            }\n",
       "        </style>\n",
       "      <progress value='4' class='' max='5' style='width:300px; height:20px; vertical-align: middle;'></progress>\n",
       "      80.00% [4/5 03:38<00:54]\n",
       "    </div>\n",
       "    \n",
       "<table border=\"1\" class=\"dataframe\">\n",
       "  <thead>\n",
       "    <tr style=\"text-align: left;\">\n",
       "      <th>epoch</th>\n",
       "      <th>train_loss</th>\n",
       "      <th>valid_loss</th>\n",
       "      <th>accuracy</th>\n",
       "      <th>time</th>\n",
       "    </tr>\n",
       "  </thead>\n",
       "  <tbody>\n",
       "    <tr>\n",
       "      <td>0</td>\n",
       "      <td>4.852922</td>\n",
       "      <td>#na#</td>\n",
       "      <td>00:55</td>\n",
       "    </tr>\n",
       "    <tr>\n",
       "      <td>1</td>\n",
       "      <td>4.826788</td>\n",
       "      <td>#na#</td>\n",
       "      <td>00:57</td>\n",
       "    </tr>\n",
       "    <tr>\n",
       "      <td>2</td>\n",
       "      <td>4.813879</td>\n",
       "      <td>#na#</td>\n",
       "      <td>00:53</td>\n",
       "    </tr>\n",
       "    <tr>\n",
       "      <td>3</td>\n",
       "      <td>5.043620</td>\n",
       "      <td>#na#</td>\n",
       "      <td>00:52</td>\n",
       "    </tr>\n",
       "  </tbody>\n",
       "</table><p>\n",
       "\n",
       "    <div>\n",
       "        <style>\n",
       "            /* Turns off some styling */\n",
       "            progress {\n",
       "                /* gets rid of default border in Firefox and Opera. */\n",
       "                border: none;\n",
       "                /* Needs to be in here for Safari polyfill so background images work as expected. */\n",
       "                background-size: auto;\n",
       "            }\n",
       "            .progress-bar-interrupted, .progress-bar-interrupted::-webkit-progress-bar {\n",
       "                background: #F44336;\n",
       "            }\n",
       "        </style>\n",
       "      <progress value='11' class='' max='20' style='width:300px; height:20px; vertical-align: middle;'></progress>\n",
       "      55.00% [11/20 00:33<00:27 12.8005]\n",
       "    </div>\n",
       "    "
      ],
      "text/plain": [
       "<IPython.core.display.HTML object>"
      ]
     },
     "metadata": {},
     "output_type": "display_data"
    },
    {
     "name": "stdout",
     "output_type": "stream",
     "text": [
      "LR Finder is complete, type {learner_name}.recorder.plot() to see the graph.\n"
     ]
    },
    {
     "data": {
      "image/png": "[encoded data removed]",
      "text/plain": [
       "<Figure size 432x288 with 1 Axes>"
      ]
     },
     "metadata": {
      "needs_background": "light"
     },
     "output_type": "display_data"
    }
   ],
   "source": [
    "# use the learning rate finder \n",
    "learner.lr_find()\n",
    "learner.recorder.plot(skip_end=1)"
   ]
  },
  {
   "cell_type": "code",
   "execution_count": 54,
   "id": "6c9fd133",
   "metadata": {},
   "outputs": [
    {
     "data": {
      "text/html": [
       "<table border=\"1\" class=\"dataframe\">\n",
       "  <thead>\n",
       "    <tr style=\"text-align: left;\">\n",
       "      <th>epoch</th>\n",
       "      <th>train_loss</th>\n",
       "      <th>valid_loss</th>\n",
       "      <th>accuracy</th>\n",
       "      <th>time</th>\n",
       "    </tr>\n",
       "  </thead>\n",
       "  <tbody>\n",
       "    <tr>\n",
       "      <td>0</td>\n",
       "      <td>4.843070</td>\n",
       "      <td>4.362247</td>\n",
       "      <td>0.000000</td>\n",
       "      <td>00:54</td>\n",
       "    </tr>\n",
       "    <tr>\n",
       "      <td>1</td>\n",
       "      <td>4.461221</td>\n",
       "      <td>4.686256</td>\n",
       "      <td>0.000000</td>\n",
       "      <td>00:54</td>\n",
       "    </tr>\n",
       "  </tbody>\n",
       "</table>"
      ],
      "text/plain": [
       "<IPython.core.display.HTML object>"
      ]
     },
     "metadata": {},
     "output_type": "display_data"
    },
    {
     "name": "stderr",
     "output_type": "stream",
     "text": [
      "C:\\Users\\rishu\\anaconda3\\lib\\site-packages\\fastai\\torch_core.py:83: UserWarning: Tensor is int32: upgrading to int64; for better performance use int64 input\n",
      "  warn('Tensor is int32: upgrading to int64; for better performance use int64 input')\n",
      "C:\\Users\\rishu\\anaconda3\\lib\\site-packages\\fastai\\torch_core.py:83: UserWarning: Tensor is int32: upgrading to int64; for better performance use int64 input\n",
      "  warn('Tensor is int32: upgrading to int64; for better performance use int64 input')\n",
      "C:\\Users\\rishu\\anaconda3\\lib\\site-packages\\fastai\\torch_core.py:83: UserWarning: Tensor is int32: upgrading to int64; for better performance use int64 input\n",
      "  warn('Tensor is int32: upgrading to int64; for better performance use int64 input')\n",
      "C:\\Users\\rishu\\anaconda3\\lib\\site-packages\\fastai\\torch_core.py:83: UserWarning: Tensor is int32: upgrading to int64; for better performance use int64 input\n",
      "  warn('Tensor is int32: upgrading to int64; for better performance use int64 input')\n",
      "C:\\Users\\rishu\\anaconda3\\lib\\site-packages\\fastai\\torch_core.py:83: UserWarning: Tensor is int32: upgrading to int64; for better performance use int64 input\n",
      "  warn('Tensor is int32: upgrading to int64; for better performance use int64 input')\n",
      "C:\\Users\\rishu\\anaconda3\\lib\\site-packages\\fastai\\torch_core.py:83: UserWarning: Tensor is int32: upgrading to int64; for better performance use int64 input\n",
      "  warn('Tensor is int32: upgrading to int64; for better performance use int64 input')\n"
     ]
    }
   ],
   "source": [
    "learner.fit_one_cycle(2, 1e-2, moms=(0.8,0.7)) "
   ]
  }
 ],
 "metadata": {
  "kernelspec": {
   "display_name": "Python 3 (ipykernel)",
   "language": "python",
   "name": "python3"
  },
  "language_info": {
   "codemirror_mode": {
    "name": "ipython",
    "version": 3
   },
   "file_extension": ".py",
   "mimetype": "text/x-python",
   "name": "python",
   "nbconvert_exporter": "python",
   "pygments_lexer": "ipython3",
   "version": "3.9.7"
  }
 },
 "nbformat": 4,
 "nbformat_minor": 5
}
